{
 "cells": [
  {
   "cell_type": "raw",
   "metadata": {},
   "source": [
    "pip install numpy scipy pandas seaborn networkx GraphHierarchy xlrd openpyxl plotly nbformat\n",
    "\n",
    "https://stackoverflow.com/questions/1871549/determine-if-python-is-running-inside-virtualenv\n",
    "https://stackoverflow.com/questions/32092310/within-ipython-how-to-get-the-path-of-the-python-driver"
   ]
  },
  {
   "cell_type": "code",
   "execution_count": 1,
   "metadata": {
    "tags": []
   },
   "outputs": [
    {
     "name": "stdout",
     "output_type": "stream",
     "text": [
      "iPython Kernel --> ['/Users/bravandi/anaconda3/envs/rbn/lib/python3.9/site-packages/ipykernel_launcher.py', '-f', '/Users/bravandi/Library/Jupyter/runtime/kernel-a8e4b66a-ea45-4509-89a7-c560b5d1d293.json']\n",
      "Environment --> /Users/bravandi/anaconda3/envs/rbn\n"
     ]
    }
   ],
   "source": [
    "import sys\n",
    "print('iPython Kernel -->', sys.argv)\n",
    "print('Environment -->', sys.prefix)"
   ]
  },
  {
   "cell_type": "code",
   "execution_count": 2,
   "metadata": {
    "tags": []
   },
   "outputs": [
    {
     "name": "stderr",
     "output_type": "stream",
     "text": [
      "/var/folders/ng/_0t6l_610xd9vdp28t5_x7c80000gn/T/ipykernel_40746/1995286510.py:36: DeprecationWarning: Importing display from IPython.core.display is deprecated since IPython 7.14, please import from IPython display\n",
      "  from IPython.core.display import display, HTML\n"
     ]
    },
    {
     "data": {
      "text/html": [
       "<style>.container { width:85% !important; }</style>"
      ],
      "text/plain": [
       "<IPython.core.display.HTML object>"
      ]
     },
     "metadata": {},
     "output_type": "display_data"
    }
   ],
   "source": [
    "import pandas as pd\n",
    "import numpy as np\n",
    "import json\n",
    "from collections import OrderedDict \n",
    "\n",
    "import plotly.graph_objects as go\n",
    "import plotly.express as px\n",
    "import plotly.io as pio\n",
    "\n",
    "import random\n",
    "\n",
    "import matplotlib\n",
    "import matplotlib.pyplot as plt\n",
    "import matplotlib.ticker as tck\n",
    "import seaborn as sns\n",
    "\n",
    "import networkx as nx\n",
    "# import GraphHierarchy as gh\n",
    "\n",
    "from tqdm import tqdm\n",
    "\n",
    "from scipy import stats\n",
    "\n",
    "import gspread\n",
    "\n",
    "'''\n",
    "This layout algorithm requires installin graphviz\n",
    "https://pygraphviz.github.io/documentation/stable/install.html\n",
    "'''\n",
    "from networkx.drawing.nx_agraph import graphviz_layout\n",
    "\n",
    "pd.set_option('display.max_rows', 500)\n",
    "pd.set_option('display.max_columns', 150)\n",
    "pd.set_option('display.max_colwidth', 0)\n",
    "\n",
    "from IPython.core.display import display, HTML\n",
    "display(HTML(\"<style>.container { width:85% !important; }</style>\"))\n",
    "\n",
    "%matplotlib inline"
   ]
  },
  {
   "cell_type": "code",
   "execution_count": 3,
   "metadata": {
    "tags": []
   },
   "outputs": [],
   "source": [
    "import os\n",
    "from pandas import ExcelWriter\n",
    "\n",
    "\n",
    "def save_xls(dfs_dict, xls_path, open=False):\n",
    "    if type(dfs_dict) is not dict:\n",
    "        dfs_dict = {'sheet1': dfs_dict}\n",
    "    \n",
    "    with ExcelWriter(xls_path) as writer:\n",
    "        for df_name, df in dfs_dict.items():\n",
    "            df.to_excel(writer, df_name)\n",
    "        writer.save()\n",
    "\n",
    "    if open is True:\n",
    "        os.system('start EXCEL.EXE \"{}\"'.format(os.path.abspath(xls_path)))\n",
    "    pass"
   ]
  },
  {
   "cell_type": "markdown",
   "metadata": {},
   "source": [
    "# Load Networks"
   ]
  },
  {
   "cell_type": "code",
   "execution_count": 8,
   "metadata": {
    "tags": []
   },
   "outputs": [],
   "source": [
    "centuries = {\n",
    "    '11': 11.0, '12': 12.0, '13': 13.0, '14E': 14.1, '14L': 14.2, '15': 15.0, '16': 16.0, '17': 17.0\n",
    "}"
   ]
  },
  {
   "cell_type": "markdown",
   "metadata": {},
   "source": [
    "## Check Mistake Duplicate Edges & Add Frequency\n",
    "\n",
    "THe only exception of having multiple interactions between a source and target is in 17th century as below. ALl other centuries must have only a single interaction (type of edge) between two nodes.\n",
    "\n",
    "Source:'PR ze'\t |\tTarget: 'IV werden'   |   Interactions: {PP, VP}"
   ]
  },
  {
   "cell_type": "code",
   "execution_count": 9,
   "metadata": {
    "tags": []
   },
   "outputs": [],
   "source": [
    "gc = gspread.service_account(filename='google_service_credentials.json')"
   ]
  },
  {
   "cell_type": "code",
   "execution_count": 10,
   "metadata": {
    "tags": []
   },
   "outputs": [
    {
     "data": {
      "text/plain": [
       "[<Worksheet '11' id:2063048793>,\n",
       " <Worksheet '12' id:936686375>,\n",
       " <Worksheet '13' id:698480864>,\n",
       " <Worksheet '14E' id:1758104757>,\n",
       " <Worksheet '14L' id:1538902914>,\n",
       " <Worksheet '15' id:2099895106>,\n",
       " <Worksheet '16' id:121866148>,\n",
       " <Worksheet '17' id:1360439213>,\n",
       " <Worksheet 'Descriptions' id:646251015>,\n",
       " <Worksheet 'Shortkeys!' id:1846877574>]"
      ]
     },
     "execution_count": 10,
     "metadata": {},
     "output_type": "execute_result"
    }
   ],
   "source": [
    "google_sheet_ID = '1CWbPlXrKa41DL02mO6pny8BC4Hd7xwbIhA3-ZthyjWc'\n",
    "\n",
    "german_dataset_gsheet = gc.open_by_key(google_sheet_ID)\n",
    "\n",
    "german_dataset_gsheet.worksheets()"
   ]
  },
  {
   "cell_type": "code",
   "execution_count": 11,
   "metadata": {
    "tags": []
   },
   "outputs": [
    {
     "data": {
      "text/plain": [
       "<Spreadsheet 'Syntactic Netwroks German' id:1CWbPlXrKa41DL02mO6pny8BC4Hd7xwbIhA3-ZthyjWc>"
      ]
     },
     "execution_count": 11,
     "metadata": {},
     "output_type": "execute_result"
    }
   ],
   "source": [
    "german_dataset_gsheet"
   ]
  },
  {
   "cell_type": "code",
   "execution_count": 25,
   "metadata": {
    "tags": []
   },
   "outputs": [
    {
     "name": "stdout",
     "output_type": "stream",
     "text": [
      "------------ Cent: 11\n",
      "num raw edges in dataset: 968  num network edges: 725\n",
      "Interaction count > 1 --> 0\n",
      "------------ Cent: 12\n",
      "num raw edges in dataset: 1194  num network edges: 803\n",
      "Interaction count > 1 --> 0\n",
      "------------ Cent: 13\n",
      "num raw edges in dataset: 2503  num network edges: 1330\n",
      "Interaction count > 1 --> 0\n",
      "------------ Cent: 14E\n",
      "num raw edges in dataset: 2326  num network edges: 1321\n",
      "Interaction count > 1 --> 0\n",
      "------------ Cent: 14L\n",
      "num raw edges in dataset: 2494  num network edges: 1586\n",
      "Interaction count > 1 --> 0\n",
      "------------ Cent: 15\n",
      "num raw edges in dataset: 2227  num network edges: 1424\n",
      "Interaction count > 1 --> 0\n",
      "------------ Cent: 16\n",
      "num raw edges in dataset: 3346  num network edges: 2448\n",
      "Interaction count > 1 --> 0\n",
      "------------ Cent: 17\n",
      "num raw edges in dataset: 3940  num network edges: 3083\n",
      "Interaction count > 1 --> 0\n",
      "IMP enforce_single_function: True\n"
     ]
    }
   ],
   "source": [
    "cent_interaction_validate = {}\n",
    "cent_raw_df = {}\n",
    "cent_df_dict = {}\n",
    "cent_all_df = []\n",
    "'''This is to have the option of more complex network'''\n",
    "enforce_single_function = True\n",
    "\n",
    "for cent in centuries.keys():\n",
    "\n",
    "    print('------------ Cent:', cent)\n",
    "    \n",
    "    cent_df = pd.DataFrame(german_dataset_gsheet.worksheet(cent).get_all_records())\n",
    "    \n",
    "    cent_df['cent'] = cent\n",
    "    \n",
    "    cent_df.loc[:, ['Source', 'Target', 'Interaction']] = (\n",
    "        cent_df.loc[:, ['Source', 'Target', 'Interaction']].apply(lambda x: x.str.strip(), axis=1)\n",
    "    ) \n",
    "    \n",
    "    cent_df['Source Funcs All'] = cent_df['Source'].apply(lambda x: x.split(' ')[0])\n",
    "    cent_df['Source Func Single'] = cent_df['Source Funcs All'].apply(lambda x: x.split('/')[0])\n",
    "\n",
    "    cent_df['Target Funcs All'] = cent_df['Target'].apply(lambda x: x.split(' ')[0])\n",
    "    cent_df['Target Func Single'] = cent_df['Target Funcs All'].apply(lambda x: x.split('/')[0])\n",
    "\n",
    "    cent_df['Source Single Func'] = cent_df['Source Func Single'] + ' ' + cent_df['Source'].apply(lambda x: ' '.join(x.split(' ')[1:]))\n",
    "    cent_df['Target Single Func'] = cent_df['Target Func Single'] + ' ' + cent_df['Target'].apply(lambda x: ' '.join(x.split(' ')[1:]))\n",
    "\n",
    "    cent_df['Source All Funcs'] = cent_df['Source']\n",
    "    cent_df['Target All Funcs'] = cent_df['Target']\n",
    "\n",
    "    if enforce_single_function is True:\n",
    "        cent_df['Source'] = cent_df['Source Single Func']\n",
    "        cent_df['Target'] = cent_df['Target Single Func']\n",
    "\n",
    "    cent_raw_df[cent] = cent_df.copy()\n",
    "    \n",
    "    \"\"\"\"\"\"\n",
    "    G=nx.from_pandas_edgelist(\n",
    "        cent_df, source='Source', target='Target', \n",
    "        edge_attr=True, create_using=nx.DiGraph()\n",
    "    )\n",
    "    \n",
    "    # nx.draw(G, with_labels=True)\n",
    "    # print(type(G))\n",
    "    degree_sequence = sorted([d for n, d in G.degree()], reverse=True)\n",
    "\n",
    "    print('num raw edges in dataset:', len(cent_df), ' num network edges:', G.number_of_edges())\n",
    "    \"\"\"\"\"\"\n",
    "\n",
    "    cent_df['frequency'] = cent_df['Interaction']\n",
    "\n",
    "    cent_df = (\n",
    "        cent_df.groupby(['Source', 'Target'])\n",
    "        .agg({\n",
    "            'Interaction': lambda x: set([v.upper() for v in x]),\n",
    "            'frequency': np.size,\n",
    "         })\n",
    "        .reset_index()\n",
    "    )\n",
    "\n",
    "    cent_df['Interaction count'] = cent_df['Interaction'].apply(len)\n",
    "\n",
    "    # print(path_net)\n",
    "    cent_df = cent_df.sort_values(by=['Interaction count', 'frequency'], ascending=False)\n",
    "\n",
    "    cent_df_dict[cent] = cent_df\n",
    "    \n",
    "    cent_interaction_validate[cent] = cent_df[cent_df['Interaction count'] > 1]  \n",
    "    \n",
    "    cent_all_df.append(cent_raw_df[cent])\n",
    "    \n",
    "    print(\n",
    "        'Interaction count > 1 -->', len(cent_interaction_validate[cent])\n",
    "    )\n",
    "    \n",
    "    del cent_df\n",
    "#     break\n",
    "    pass\n",
    "# cent_df_dict.keys()\n",
    "# cent_df = cent_raw_df[cent]\n",
    "cent_all_df = pd.concat(cent_all_df).reset_index(drop=True)\n",
    "\n",
    "print('IMP enforce_single_function:', enforce_single_function)"
   ]
  },
  {
   "cell_type": "code",
   "execution_count": 26,
   "metadata": {
    "scrolled": true,
    "tags": []
   },
   "outputs": [
    {
     "name": "stdout",
     "output_type": "stream",
     "text": [
      "WE MUST HAVE Only two nodes with multiple edges!\n",
      "NOT ANYMORE! we fixed it\n"
     ]
    },
    {
     "data": {
      "text/html": [
       "<div>\n",
       "<style scoped>\n",
       "    .dataframe tbody tr th:only-of-type {\n",
       "        vertical-align: middle;\n",
       "    }\n",
       "\n",
       "    .dataframe tbody tr th {\n",
       "        vertical-align: top;\n",
       "    }\n",
       "\n",
       "    .dataframe thead th {\n",
       "        text-align: right;\n",
       "    }\n",
       "</style>\n",
       "<table border=\"1\" class=\"dataframe\">\n",
       "  <thead>\n",
       "    <tr style=\"text-align: right;\">\n",
       "      <th></th>\n",
       "      <th>Source</th>\n",
       "      <th>Target</th>\n",
       "      <th>Interaction</th>\n",
       "      <th>frequency</th>\n",
       "      <th>Interaction count</th>\n",
       "    </tr>\n",
       "  </thead>\n",
       "  <tbody>\n",
       "  </tbody>\n",
       "</table>\n",
       "</div>"
      ],
      "text/plain": [
       "Empty DataFrame\n",
       "Columns: [Source, Target, Interaction, frequency, Interaction count]\n",
       "Index: []"
      ]
     },
     "execution_count": 26,
     "metadata": {},
     "output_type": "execute_result"
    }
   ],
   "source": [
    "print('WE MUST HAVE Only two nodes with multiple edges!')\n",
    "print('NOT ANYMORE! we fixed it')\n",
    "cent_interaction_validate['17']"
   ]
  },
  {
   "cell_type": "code",
   "execution_count": 27,
   "metadata": {
    "tags": []
   },
   "outputs": [
    {
     "data": {
      "text/plain": [
       "                                          14682\n",
       "Passive Voice                             2504 \n",
       "Change of State                           973  \n",
       "Future Reference                          398  \n",
       "Obligation/Permission/Future Reference    161  \n",
       "Obligation                                97   \n",
       "Capacities                                95   \n",
       "Desires/Wants                             46   \n",
       "Obligation/Permission                     18   \n",
       "Capacities/Desires                        9    \n",
       "Desires                                   8    \n",
       "Permission                                3    \n",
       "-                                         2    \n",
       "Being Powerful                            1    \n",
       "?                                         1    \n",
       "Name: Communicative Need, dtype: int64"
      ]
     },
     "execution_count": 27,
     "metadata": {},
     "output_type": "execute_result"
    }
   ],
   "source": [
    "cent_all_df['Communicative Need'].value_counts()"
   ]
  },
  {
   "cell_type": "code",
   "execution_count": null,
   "metadata": {},
   "outputs": [],
   "source": []
  },
  {
   "cell_type": "code",
   "execution_count": null,
   "metadata": {},
   "outputs": [],
   "source": []
  },
  {
   "cell_type": "code",
   "execution_count": null,
   "metadata": {},
   "outputs": [],
   "source": []
  }
 ],
 "metadata": {
  "kernelspec": {
   "display_name": "Python 3 (ipykernel)",
   "language": "python",
   "name": "python3"
  },
  "language_info": {
   "codemirror_mode": {
    "name": "ipython",
    "version": 3
   },
   "file_extension": ".py",
   "mimetype": "text/x-python",
   "name": "python",
   "nbconvert_exporter": "python",
   "pygments_lexer": "ipython3",
   "version": "3.9.16"
  },
  "toc": {
   "base_numbering": 1,
   "nav_menu": {},
   "number_sections": true,
   "sideBar": true,
   "skip_h1_title": false,
   "title_cell": "Table of Contents",
   "title_sidebar": "Contents",
   "toc_cell": false,
   "toc_position": {
    "height": "calc(100% - 180px)",
    "left": "10px",
    "top": "150px",
    "width": "178.188px"
   },
   "toc_section_display": true,
   "toc_window_display": true
  },
  "varInspector": {
   "cols": {
    "lenName": 16,
    "lenType": 16,
    "lenVar": 40
   },
   "kernels_config": {
    "python": {
     "delete_cmd_postfix": "",
     "delete_cmd_prefix": "del ",
     "library": "var_list.py",
     "varRefreshCmd": "print(var_dic_list())"
    },
    "r": {
     "delete_cmd_postfix": ") ",
     "delete_cmd_prefix": "rm(",
     "library": "var_list.r",
     "varRefreshCmd": "cat(var_dic_list()) "
    }
   },
   "types_to_exclude": [
    "module",
    "function",
    "builtin_function_or_method",
    "instance",
    "_Feature"
   ],
   "window_display": false
  }
 },
 "nbformat": 4,
 "nbformat_minor": 4
}
