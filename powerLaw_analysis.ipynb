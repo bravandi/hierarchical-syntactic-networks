{
 "cells": [
  {
   "cell_type": "code",
   "execution_count": 1,
   "metadata": {
    "scrolled": true
   },
   "outputs": [
    {
     "name": "stderr",
     "output_type": "stream",
     "text": [
      "plpva_example\\plplot.py:8: UserWarning: \n",
      "This call to matplotlib.use() has no effect because the backend has already\n",
      "been chosen; matplotlib.use() must be called *before* pylab, matplotlib.pyplot,\n",
      "or matplotlib.backends is imported for the first time.\n",
      "\n",
      "The backend was *originally* set to 'nbAgg' by the following code:\n",
      "  File \"C:\\Anaconda3\\envs\\py27\\lib\\runpy.py\", line 174, in _run_module_as_main\n",
      "    \"__main__\", fname, loader, pkg_name)\n",
      "  File \"C:\\Anaconda3\\envs\\py27\\lib\\runpy.py\", line 72, in _run_code\n",
      "    exec code in run_globals\n",
      "  File \"C:\\Anaconda3\\envs\\py27\\lib\\site-packages\\ipykernel_launcher.py\", line 16, in <module>\n",
      "    app.launch_new_instance()\n",
      "  File \"C:\\Anaconda3\\envs\\py27\\lib\\site-packages\\traitlets\\config\\application.py\", line 664, in launch_instance\n",
      "    app.start()\n",
      "  File \"C:\\Anaconda3\\envs\\py27\\lib\\site-packages\\ipykernel\\kernelapp.py\", line 499, in start\n",
      "    self.io_loop.start()\n",
      "  File \"C:\\Anaconda3\\envs\\py27\\lib\\site-packages\\tornado\\ioloop.py\", line 1073, in start\n",
      "    handler_func(fd_obj, events)\n",
      "  File \"C:\\Anaconda3\\envs\\py27\\lib\\site-packages\\tornado\\stack_context.py\", line 300, in null_wrapper\n",
      "    return fn(*args, **kwargs)\n",
      "  File \"C:\\Anaconda3\\envs\\py27\\lib\\site-packages\\zmq\\eventloop\\zmqstream.py\", line 456, in _handle_events\n",
      "    self._handle_recv()\n",
      "  File \"C:\\Anaconda3\\envs\\py27\\lib\\site-packages\\zmq\\eventloop\\zmqstream.py\", line 486, in _handle_recv\n",
      "    self._run_callback(callback, msg)\n",
      "  File \"C:\\Anaconda3\\envs\\py27\\lib\\site-packages\\zmq\\eventloop\\zmqstream.py\", line 438, in _run_callback\n",
      "    callback(*args, **kwargs)\n",
      "  File \"C:\\Anaconda3\\envs\\py27\\lib\\site-packages\\tornado\\stack_context.py\", line 300, in null_wrapper\n",
      "    return fn(*args, **kwargs)\n",
      "  File \"C:\\Anaconda3\\envs\\py27\\lib\\site-packages\\ipykernel\\kernelbase.py\", line 283, in dispatcher\n",
      "    return self.dispatch_shell(stream, msg)\n",
      "  File \"C:\\Anaconda3\\envs\\py27\\lib\\site-packages\\ipykernel\\kernelbase.py\", line 233, in dispatch_shell\n",
      "    handler(stream, idents, msg)\n",
      "  File \"C:\\Anaconda3\\envs\\py27\\lib\\site-packages\\ipykernel\\kernelbase.py\", line 399, in execute_request\n",
      "    user_expressions, allow_stdin)\n",
      "  File \"C:\\Anaconda3\\envs\\py27\\lib\\site-packages\\ipykernel\\ipkernel.py\", line 208, in do_execute\n",
      "    res = shell.run_cell(code, store_history=store_history, silent=silent)\n",
      "  File \"C:\\Anaconda3\\envs\\py27\\lib\\site-packages\\ipykernel\\zmqshell.py\", line 537, in run_cell\n",
      "    return super(ZMQInteractiveShell, self).run_cell(*args, **kwargs)\n",
      "  File \"C:\\Anaconda3\\envs\\py27\\lib\\site-packages\\IPython\\core\\interactiveshell.py\", line 2714, in run_cell\n",
      "    interactivity=interactivity, compiler=compiler, result=result)\n",
      "  File \"C:\\Anaconda3\\envs\\py27\\lib\\site-packages\\IPython\\core\\interactiveshell.py\", line 2818, in run_ast_nodes\n",
      "    if self.run_code(code, result):\n",
      "  File \"C:\\Anaconda3\\envs\\py27\\lib\\site-packages\\IPython\\core\\interactiveshell.py\", line 2878, in run_code\n",
      "    exec(code_obj, self.user_global_ns, self.user_ns)\n",
      "  File \"<ipython-input-1-9cba1b947a2c>\", line 21, in <module>\n",
      "    get_ipython().magic(u'matplotlib notebook')\n",
      "  File \"C:\\Anaconda3\\envs\\py27\\lib\\site-packages\\IPython\\core\\interactiveshell.py\", line 2160, in magic\n",
      "    return self.run_line_magic(magic_name, magic_arg_s)\n",
      "  File \"C:\\Anaconda3\\envs\\py27\\lib\\site-packages\\IPython\\core\\interactiveshell.py\", line 2081, in run_line_magic\n",
      "    result = fn(*args,**kwargs)\n",
      "  File \"<decorator-gen-106>\", line 2, in matplotlib\n",
      "  File \"C:\\Anaconda3\\envs\\py27\\lib\\site-packages\\IPython\\core\\magic.py\", line 188, in <lambda>\n",
      "    call = lambda f, *a, **k: f(*a, **k)\n",
      "  File \"C:\\Anaconda3\\envs\\py27\\lib\\site-packages\\IPython\\core\\magics\\pylab.py\", line 100, in matplotlib\n",
      "    gui, backend = self.shell.enable_matplotlib(args.gui)\n",
      "  File \"C:\\Anaconda3\\envs\\py27\\lib\\site-packages\\IPython\\core\\interactiveshell.py\", line 2966, in enable_matplotlib\n",
      "    pt.activate_matplotlib(backend)\n",
      "  File \"C:\\Anaconda3\\envs\\py27\\lib\\site-packages\\IPython\\core\\pylabtools.py\", line 315, in activate_matplotlib\n",
      "    matplotlib.pyplot.switch_backend(backend)\n",
      "  File \"C:\\Anaconda3\\envs\\py27\\lib\\site-packages\\matplotlib\\pyplot.py\", line 231, in switch_backend\n",
      "    matplotlib.use(newbackend, warn=False, force=True)\n",
      "  File \"C:\\Anaconda3\\envs\\py27\\lib\\site-packages\\matplotlib\\__init__.py\", line 1425, in use\n",
      "    reload(sys.modules['matplotlib.backends'])\n",
      "  File \"C:\\Anaconda3\\envs\\py27\\lib\\site-packages\\matplotlib\\backends\\__init__.py\", line 17, in <module>\n",
      "    line for line in traceback.format_stack()\n",
      "\n",
      "\n",
      "  use(\"Agg\")\n"
     ]
    }
   ],
   "source": [
    "import sys\n",
    "\n",
    "import pandas as pd\n",
    "import numpy as np\n",
    "import networkx as nx\n",
    "import plfit\n",
    "from numpy.random import rand,seed\n",
    "\n",
    "# from matplotlib import use\n",
    "# use(\"TkAgg\") \n",
    "# import matplotlib\n",
    "# import matplotlib.pyplot\n",
    "\n",
    "import os\n",
    "from IPython.display import Image\n",
    "\n",
    "import plfit\n",
    "from numpy.random import rand,seed\n",
    "\n",
    "# %matplotlib agg\n",
    "%matplotlib notebook\n",
    "\n",
    "os.getcwd() \n",
    "if os.getcwd() + '/plpva_example'not in sys.path:\n",
    "    sys.path.append(os.getcwd() + '/plpva_example')\n",
    "    \n",
    "%load_ext autoreload\n",
    "\n",
    "%autoreload 1\n",
    "\n",
    "%aimport plpva_example.example\n",
    "%aimport plpva_example.plplot"
   ]
  },
  {
   "cell_type": "code",
   "execution_count": 5,
   "metadata": {
    "scrolled": false
   },
   "outputs": [
    {
     "data": {
      "text/html": [
       "<style>.container { width:90% !important; }</style>"
      ],
      "text/plain": [
       "<IPython.core.display.HTML object>"
      ]
     },
     "metadata": {},
     "output_type": "display_data"
    },
    {
     "data": {
      "text/html": [
       "        <script type=\"text/javascript\">\n",
       "        window.PlotlyConfig = {MathJaxConfig: 'local'};\n",
       "        if (window.MathJax) {MathJax.Hub.Config({SVG: {font: \"STIX-Web\"}});}\n",
       "        if (typeof require !== 'undefined') {\n",
       "        require.undef(\"plotly\");\n",
       "        requirejs.config({\n",
       "            paths: {\n",
       "                'plotly': ['https://cdn.plot.ly/plotly-latest.min']\n",
       "            }\n",
       "        });\n",
       "        require(['plotly'], function(Plotly) {\n",
       "            window._Plotly = Plotly;\n",
       "        });\n",
       "        }\n",
       "        </script>\n",
       "        "
      ]
     },
     "metadata": {},
     "output_type": "display_data"
    }
   ],
   "source": [
    "from numpy import *\n",
    "from itertools import combinations\n",
    "from numpy.random import choice\n",
    "from scipy.sparse import dok_matrix\n",
    "import powerlaw\n",
    "\n",
    "from IPython.core.display import display, HTML\n",
    "display(HTML(\"<style>.container { width:90% !important; }</style>\"))\n",
    "\n",
    "import plotly.io as pio\n",
    "import plotly.graph_objs as go\n",
    "from plotly.offline import download_plotlyjs, init_notebook_mode, plot, iplot, plot_mpl\n",
    "init_notebook_mode(connected=True)\n",
    "\n",
    "def get_binning(data, num_bins = 15, is_pmf = True, log_binning = False, threshold = 0, low=None, up=None):\n",
    "    \n",
    "    # Let's filter out the isolated nodes\n",
    "    values = list(filter(lambda x:x>threshold, data))\n",
    "    if len(values)!=len(data):\n",
    "        print(\"%s isolated nodes have been removed\" % (len(data)-len(values)))\n",
    "    \n",
    "    # We need to define the support of our distribution\n",
    "    if not low:\n",
    "        lower_bound = min(values)\n",
    "        upper_bound = max(values)\n",
    "    else:\n",
    "        lower_bound = low\n",
    "        upper_bound = up\n",
    "\n",
    "    if log_binning:\n",
    "        lower_bound = log10(lower_bound)\n",
    "        upper_bound = log10(upper_bound)\n",
    "        \n",
    "        # Log binning\n",
    "        bin_edges = logspace(lower_bound, upper_bound, num_bins+1, base = 10)\n",
    "        \n",
    "    else:\n",
    "\n",
    "        # Linear Binning\n",
    "        bin_edges = linspace(lower_bound, upper_bound, num_bins+1)\n",
    "    \n",
    "    if is_pmf:\n",
    "        y, __ = histogram(values,bins = bin_edges, density = False)\n",
    "        p = (y+0.00000000001)/y.sum()\n",
    "        #print p\n",
    "    else:\n",
    "        p, __ = histogram(values, bins = bin_edges, density = True)\n",
    "        \n",
    "        #print(p.sum())\n",
    "        #print((p*np.diff(bin_edges)).sum())\n",
    "    \n",
    "    # Now, we need to compute for each y the value of x\n",
    "    x = bin_edges[1:] - diff(bin_edges)/2 # centering x at the midpoint of the bin\n",
    "    \n",
    "    x = x[p>0]\n",
    "    p = p[p>0]\n",
    "    \n",
    "    return x,p"
   ]
  },
  {
   "cell_type": "code",
   "execution_count": 8,
   "metadata": {
    "scrolled": true
   },
   "outputs": [],
   "source": [
    "path_dataset_dir = \"../German/\"\n",
    "# cent_15 = pd.read_excel( path_dataset_dir + \"/02 Frühneuhochdeutsch early new high/15cent.xlsx\")\n",
    "cent_15 = pd.read_excel( path_dataset_dir + \"/02 Fruhneuhochdeutsch early new high/17.cent.xlsx\")\n",
    "\n",
    "G=nx.from_pandas_edgelist(cent_15, 'Source', 'Target')\n",
    "# nx.draw(G, with_labels=True)\n",
    "degree_sequence = sorted([d for n, d in G.degree()], reverse=True)"
   ]
  },
  {
   "cell_type": "code",
   "execution_count": 9,
   "metadata": {
    "scrolled": true
   },
   "outputs": [
    {
     "name": "stderr",
     "output_type": "stream",
     "text": [
      "Calculating best minimal value for power law fit\n",
      "C:\\Anaconda3\\envs\\py27\\lib\\site-packages\\powerlaw.py:700: RuntimeWarning:\n",
      "\n",
      "invalid value encountered in divide\n",
      "\n"
     ]
    },
    {
     "data": {
      "application/vnd.plotly.v1+json": {
       "config": {
        "plotlyServerURL": "https://plot.ly"
       },
       "data": [
        {
         "type": "scatter",
         "x": [
          1.257362623126685,
          1.9045589089453507,
          2.884883462356296,
          4.369805812929915,
          6.619055186069673,
          10.026049996684028,
          15.186711050175816,
          23.003694635256334,
          34.84427702112596,
          52.77950609134567,
          79.94645036134483,
          121.09690671067084,
          183.4285418378422,
          277.84384320522213,
          420.85708381901287
         ],
         "y": [
          0.32784810126582914,
          0.31392405063291773,
          0.16708860759494304,
          0.1006329113924114,
          0.041139240506335446,
          0.024683544303803796,
          0.008227848101272152,
          0.004430379746841772,
          0.0031645569620316455,
          0.0025316455696265824,
          0.0012658227848164557,
          0.0031645569620316455,
          0.0006329113924113924,
          0.0006329113924113924,
          0.0006329113924113924
         ]
        }
       ],
       "layout": {
        "template": {
         "data": {
          "bar": [
           {
            "error_x": {
             "color": "#2a3f5f"
            },
            "error_y": {
             "color": "#2a3f5f"
            },
            "marker": {
             "line": {
              "color": "#E5ECF6",
              "width": 0.5
             }
            },
            "type": "bar"
           }
          ],
          "barpolar": [
           {
            "marker": {
             "line": {
              "color": "#E5ECF6",
              "width": 0.5
             }
            },
            "type": "barpolar"
           }
          ],
          "carpet": [
           {
            "aaxis": {
             "endlinecolor": "#2a3f5f",
             "gridcolor": "white",
             "linecolor": "white",
             "minorgridcolor": "white",
             "startlinecolor": "#2a3f5f"
            },
            "baxis": {
             "endlinecolor": "#2a3f5f",
             "gridcolor": "white",
             "linecolor": "white",
             "minorgridcolor": "white",
             "startlinecolor": "#2a3f5f"
            },
            "type": "carpet"
           }
          ],
          "choropleth": [
           {
            "colorbar": {
             "outlinewidth": 0,
             "ticks": ""
            },
            "type": "choropleth"
           }
          ],
          "contour": [
           {
            "colorbar": {
             "outlinewidth": 0,
             "ticks": ""
            },
            "colorscale": [
             [
              0,
              "#0d0887"
             ],
             [
              0.1111111111111111,
              "#46039f"
             ],
             [
              0.2222222222222222,
              "#7201a8"
             ],
             [
              0.3333333333333333,
              "#9c179e"
             ],
             [
              0.4444444444444444,
              "#bd3786"
             ],
             [
              0.5555555555555556,
              "#d8576b"
             ],
             [
              0.6666666666666666,
              "#ed7953"
             ],
             [
              0.7777777777777778,
              "#fb9f3a"
             ],
             [
              0.8888888888888888,
              "#fdca26"
             ],
             [
              1,
              "#f0f921"
             ]
            ],
            "type": "contour"
           }
          ],
          "contourcarpet": [
           {
            "colorbar": {
             "outlinewidth": 0,
             "ticks": ""
            },
            "type": "contourcarpet"
           }
          ],
          "heatmap": [
           {
            "colorbar": {
             "outlinewidth": 0,
             "ticks": ""
            },
            "colorscale": [
             [
              0,
              "#0d0887"
             ],
             [
              0.1111111111111111,
              "#46039f"
             ],
             [
              0.2222222222222222,
              "#7201a8"
             ],
             [
              0.3333333333333333,
              "#9c179e"
             ],
             [
              0.4444444444444444,
              "#bd3786"
             ],
             [
              0.5555555555555556,
              "#d8576b"
             ],
             [
              0.6666666666666666,
              "#ed7953"
             ],
             [
              0.7777777777777778,
              "#fb9f3a"
             ],
             [
              0.8888888888888888,
              "#fdca26"
             ],
             [
              1,
              "#f0f921"
             ]
            ],
            "type": "heatmap"
           }
          ],
          "heatmapgl": [
           {
            "colorbar": {
             "outlinewidth": 0,
             "ticks": ""
            },
            "colorscale": [
             [
              0,
              "#0d0887"
             ],
             [
              0.1111111111111111,
              "#46039f"
             ],
             [
              0.2222222222222222,
              "#7201a8"
             ],
             [
              0.3333333333333333,
              "#9c179e"
             ],
             [
              0.4444444444444444,
              "#bd3786"
             ],
             [
              0.5555555555555556,
              "#d8576b"
             ],
             [
              0.6666666666666666,
              "#ed7953"
             ],
             [
              0.7777777777777778,
              "#fb9f3a"
             ],
             [
              0.8888888888888888,
              "#fdca26"
             ],
             [
              1,
              "#f0f921"
             ]
            ],
            "type": "heatmapgl"
           }
          ],
          "histogram": [
           {
            "marker": {
             "colorbar": {
              "outlinewidth": 0,
              "ticks": ""
             }
            },
            "type": "histogram"
           }
          ],
          "histogram2d": [
           {
            "colorbar": {
             "outlinewidth": 0,
             "ticks": ""
            },
            "colorscale": [
             [
              0,
              "#0d0887"
             ],
             [
              0.1111111111111111,
              "#46039f"
             ],
             [
              0.2222222222222222,
              "#7201a8"
             ],
             [
              0.3333333333333333,
              "#9c179e"
             ],
             [
              0.4444444444444444,
              "#bd3786"
             ],
             [
              0.5555555555555556,
              "#d8576b"
             ],
             [
              0.6666666666666666,
              "#ed7953"
             ],
             [
              0.7777777777777778,
              "#fb9f3a"
             ],
             [
              0.8888888888888888,
              "#fdca26"
             ],
             [
              1,
              "#f0f921"
             ]
            ],
            "type": "histogram2d"
           }
          ],
          "histogram2dcontour": [
           {
            "colorbar": {
             "outlinewidth": 0,
             "ticks": ""
            },
            "colorscale": [
             [
              0,
              "#0d0887"
             ],
             [
              0.1111111111111111,
              "#46039f"
             ],
             [
              0.2222222222222222,
              "#7201a8"
             ],
             [
              0.3333333333333333,
              "#9c179e"
             ],
             [
              0.4444444444444444,
              "#bd3786"
             ],
             [
              0.5555555555555556,
              "#d8576b"
             ],
             [
              0.6666666666666666,
              "#ed7953"
             ],
             [
              0.7777777777777778,
              "#fb9f3a"
             ],
             [
              0.8888888888888888,
              "#fdca26"
             ],
             [
              1,
              "#f0f921"
             ]
            ],
            "type": "histogram2dcontour"
           }
          ],
          "mesh3d": [
           {
            "colorbar": {
             "outlinewidth": 0,
             "ticks": ""
            },
            "type": "mesh3d"
           }
          ],
          "parcoords": [
           {
            "line": {
             "colorbar": {
              "outlinewidth": 0,
              "ticks": ""
             }
            },
            "type": "parcoords"
           }
          ],
          "pie": [
           {
            "automargin": true,
            "type": "pie"
           }
          ],
          "scatter": [
           {
            "marker": {
             "colorbar": {
              "outlinewidth": 0,
              "ticks": ""
             }
            },
            "type": "scatter"
           }
          ],
          "scatter3d": [
           {
            "line": {
             "colorbar": {
              "outlinewidth": 0,
              "ticks": ""
             }
            },
            "marker": {
             "colorbar": {
              "outlinewidth": 0,
              "ticks": ""
             }
            },
            "type": "scatter3d"
           }
          ],
          "scattercarpet": [
           {
            "marker": {
             "colorbar": {
              "outlinewidth": 0,
              "ticks": ""
             }
            },
            "type": "scattercarpet"
           }
          ],
          "scattergeo": [
           {
            "marker": {
             "colorbar": {
              "outlinewidth": 0,
              "ticks": ""
             }
            },
            "type": "scattergeo"
           }
          ],
          "scattergl": [
           {
            "marker": {
             "colorbar": {
              "outlinewidth": 0,
              "ticks": ""
             }
            },
            "type": "scattergl"
           }
          ],
          "scattermapbox": [
           {
            "marker": {
             "colorbar": {
              "outlinewidth": 0,
              "ticks": ""
             }
            },
            "type": "scattermapbox"
           }
          ],
          "scatterpolar": [
           {
            "marker": {
             "colorbar": {
              "outlinewidth": 0,
              "ticks": ""
             }
            },
            "type": "scatterpolar"
           }
          ],
          "scatterpolargl": [
           {
            "marker": {
             "colorbar": {
              "outlinewidth": 0,
              "ticks": ""
             }
            },
            "type": "scatterpolargl"
           }
          ],
          "scatterternary": [
           {
            "marker": {
             "colorbar": {
              "outlinewidth": 0,
              "ticks": ""
             }
            },
            "type": "scatterternary"
           }
          ],
          "surface": [
           {
            "colorbar": {
             "outlinewidth": 0,
             "ticks": ""
            },
            "colorscale": [
             [
              0,
              "#0d0887"
             ],
             [
              0.1111111111111111,
              "#46039f"
             ],
             [
              0.2222222222222222,
              "#7201a8"
             ],
             [
              0.3333333333333333,
              "#9c179e"
             ],
             [
              0.4444444444444444,
              "#bd3786"
             ],
             [
              0.5555555555555556,
              "#d8576b"
             ],
             [
              0.6666666666666666,
              "#ed7953"
             ],
             [
              0.7777777777777778,
              "#fb9f3a"
             ],
             [
              0.8888888888888888,
              "#fdca26"
             ],
             [
              1,
              "#f0f921"
             ]
            ],
            "type": "surface"
           }
          ],
          "table": [
           {
            "cells": {
             "fill": {
              "color": "#EBF0F8"
             },
             "line": {
              "color": "white"
             }
            },
            "header": {
             "fill": {
              "color": "#C8D4E3"
             },
             "line": {
              "color": "white"
             }
            },
            "type": "table"
           }
          ]
         },
         "layout": {
          "annotationdefaults": {
           "arrowcolor": "#2a3f5f",
           "arrowhead": 0,
           "arrowwidth": 1
          },
          "coloraxis": {
           "colorbar": {
            "outlinewidth": 0,
            "ticks": ""
           }
          },
          "colorscale": {
           "diverging": [
            [
             0,
             "#8e0152"
            ],
            [
             0.1,
             "#c51b7d"
            ],
            [
             0.2,
             "#de77ae"
            ],
            [
             0.3,
             "#f1b6da"
            ],
            [
             0.4,
             "#fde0ef"
            ],
            [
             0.5,
             "#f7f7f7"
            ],
            [
             0.6,
             "#e6f5d0"
            ],
            [
             0.7,
             "#b8e186"
            ],
            [
             0.8,
             "#7fbc41"
            ],
            [
             0.9,
             "#4d9221"
            ],
            [
             1,
             "#276419"
            ]
           ],
           "sequential": [
            [
             0,
             "#0d0887"
            ],
            [
             0.1111111111111111,
             "#46039f"
            ],
            [
             0.2222222222222222,
             "#7201a8"
            ],
            [
             0.3333333333333333,
             "#9c179e"
            ],
            [
             0.4444444444444444,
             "#bd3786"
            ],
            [
             0.5555555555555556,
             "#d8576b"
            ],
            [
             0.6666666666666666,
             "#ed7953"
            ],
            [
             0.7777777777777778,
             "#fb9f3a"
            ],
            [
             0.8888888888888888,
             "#fdca26"
            ],
            [
             1,
             "#f0f921"
            ]
           ],
           "sequentialminus": [
            [
             0,
             "#0d0887"
            ],
            [
             0.1111111111111111,
             "#46039f"
            ],
            [
             0.2222222222222222,
             "#7201a8"
            ],
            [
             0.3333333333333333,
             "#9c179e"
            ],
            [
             0.4444444444444444,
             "#bd3786"
            ],
            [
             0.5555555555555556,
             "#d8576b"
            ],
            [
             0.6666666666666666,
             "#ed7953"
            ],
            [
             0.7777777777777778,
             "#fb9f3a"
            ],
            [
             0.8888888888888888,
             "#fdca26"
            ],
            [
             1,
             "#f0f921"
            ]
           ]
          },
          "colorway": [
           "#636efa",
           "#EF553B",
           "#00cc96",
           "#ab63fa",
           "#FFA15A",
           "#19d3f3",
           "#FF6692",
           "#B6E880",
           "#FF97FF",
           "#FECB52"
          ],
          "font": {
           "color": "#2a3f5f"
          },
          "geo": {
           "bgcolor": "white",
           "lakecolor": "white",
           "landcolor": "#E5ECF6",
           "showlakes": true,
           "showland": true,
           "subunitcolor": "white"
          },
          "hoverlabel": {
           "align": "left"
          },
          "hovermode": "closest",
          "mapbox": {
           "style": "light"
          },
          "paper_bgcolor": "white",
          "plot_bgcolor": "#E5ECF6",
          "polar": {
           "angularaxis": {
            "gridcolor": "white",
            "linecolor": "white",
            "ticks": ""
           },
           "bgcolor": "#E5ECF6",
           "radialaxis": {
            "gridcolor": "white",
            "linecolor": "white",
            "ticks": ""
           }
          },
          "scene": {
           "xaxis": {
            "backgroundcolor": "#E5ECF6",
            "gridcolor": "white",
            "gridwidth": 2,
            "linecolor": "white",
            "showbackground": true,
            "ticks": "",
            "zerolinecolor": "white"
           },
           "yaxis": {
            "backgroundcolor": "#E5ECF6",
            "gridcolor": "white",
            "gridwidth": 2,
            "linecolor": "white",
            "showbackground": true,
            "ticks": "",
            "zerolinecolor": "white"
           },
           "zaxis": {
            "backgroundcolor": "#E5ECF6",
            "gridcolor": "white",
            "gridwidth": 2,
            "linecolor": "white",
            "showbackground": true,
            "ticks": "",
            "zerolinecolor": "white"
           }
          },
          "shapedefaults": {
           "line": {
            "color": "#2a3f5f"
           }
          },
          "ternary": {
           "aaxis": {
            "gridcolor": "white",
            "linecolor": "white",
            "ticks": ""
           },
           "baxis": {
            "gridcolor": "white",
            "linecolor": "white",
            "ticks": ""
           },
           "bgcolor": "#E5ECF6",
           "caxis": {
            "gridcolor": "white",
            "linecolor": "white",
            "ticks": ""
           }
          },
          "title": {
           "x": 0.05
          },
          "xaxis": {
           "automargin": true,
           "gridcolor": "white",
           "linecolor": "white",
           "ticks": "",
           "title": {
            "standoff": 15
           },
           "zerolinecolor": "white",
           "zerolinewidth": 2
          },
          "yaxis": {
           "automargin": true,
           "gridcolor": "white",
           "linecolor": "white",
           "ticks": "",
           "title": {
            "standoff": 15
           },
           "zerolinecolor": "white",
           "zerolinewidth": 2
          }
         }
        },
        "title": {
         "text": "02 Frühneuhochdeutsch early new high - 17.cent<br />PowerLaw ~ exponential: (0.9099044866641082, 0.8678211135260253)<br />PoweLaw ~ lognormal: (-3.655028997380052, 0.07638927954314911)"
        },
        "xaxis": {
         "type": "log"
        },
        "yaxis": {
         "type": "log"
        }
       }
      },
      "text/html": [
       "<div>                            <div id=\"e72d23a5-cc4f-42fd-97c2-fe2461981410\" class=\"plotly-graph-div\" style=\"height:525px; width:100%;\"></div>            <script type=\"text/javascript\">                require([\"plotly\"], function(Plotly) {                    window.PLOTLYENV=window.PLOTLYENV || {};                                    if (document.getElementById(\"e72d23a5-cc4f-42fd-97c2-fe2461981410\")) {                    Plotly.newPlot(                        \"e72d23a5-cc4f-42fd-97c2-fe2461981410\",                        [{\"type\": \"scatter\", \"x\": [1.257362623126685, 1.9045589089453507, 2.884883462356296, 4.369805812929915, 6.619055186069673, 10.026049996684028, 15.186711050175816, 23.003694635256334, 34.84427702112596, 52.77950609134567, 79.94645036134483, 121.09690671067084, 183.4285418378422, 277.84384320522213, 420.85708381901287], \"y\": [0.32784810126582914, 0.31392405063291773, 0.16708860759494304, 0.1006329113924114, 0.041139240506335446, 0.024683544303803796, 0.008227848101272152, 0.004430379746841772, 0.0031645569620316455, 0.0025316455696265824, 0.0012658227848164557, 0.0031645569620316455, 0.0006329113924113924, 0.0006329113924113924, 0.0006329113924113924]}],                        {\"template\": {\"data\": {\"bar\": [{\"error_x\": {\"color\": \"#2a3f5f\"}, \"error_y\": {\"color\": \"#2a3f5f\"}, \"marker\": {\"line\": {\"color\": \"#E5ECF6\", \"width\": 0.5}}, \"type\": \"bar\"}], \"barpolar\": [{\"marker\": {\"line\": {\"color\": \"#E5ECF6\", \"width\": 0.5}}, \"type\": \"barpolar\"}], \"carpet\": [{\"aaxis\": {\"endlinecolor\": \"#2a3f5f\", \"gridcolor\": \"white\", \"linecolor\": \"white\", \"minorgridcolor\": \"white\", \"startlinecolor\": \"#2a3f5f\"}, \"baxis\": {\"endlinecolor\": \"#2a3f5f\", \"gridcolor\": \"white\", \"linecolor\": \"white\", \"minorgridcolor\": \"white\", \"startlinecolor\": \"#2a3f5f\"}, \"type\": \"carpet\"}], \"choropleth\": [{\"colorbar\": {\"outlinewidth\": 0, \"ticks\": \"\"}, \"type\": \"choropleth\"}], \"contour\": [{\"colorbar\": {\"outlinewidth\": 0, \"ticks\": \"\"}, \"colorscale\": [[0.0, \"#0d0887\"], [0.1111111111111111, \"#46039f\"], [0.2222222222222222, \"#7201a8\"], [0.3333333333333333, \"#9c179e\"], [0.4444444444444444, \"#bd3786\"], [0.5555555555555556, \"#d8576b\"], [0.6666666666666666, \"#ed7953\"], [0.7777777777777778, \"#fb9f3a\"], [0.8888888888888888, \"#fdca26\"], [1.0, \"#f0f921\"]], \"type\": \"contour\"}], \"contourcarpet\": [{\"colorbar\": {\"outlinewidth\": 0, \"ticks\": \"\"}, \"type\": \"contourcarpet\"}], \"heatmap\": [{\"colorbar\": {\"outlinewidth\": 0, \"ticks\": \"\"}, \"colorscale\": [[0.0, \"#0d0887\"], [0.1111111111111111, \"#46039f\"], [0.2222222222222222, \"#7201a8\"], [0.3333333333333333, \"#9c179e\"], [0.4444444444444444, \"#bd3786\"], [0.5555555555555556, \"#d8576b\"], [0.6666666666666666, \"#ed7953\"], [0.7777777777777778, \"#fb9f3a\"], [0.8888888888888888, \"#fdca26\"], [1.0, \"#f0f921\"]], \"type\": \"heatmap\"}], \"heatmapgl\": [{\"colorbar\": {\"outlinewidth\": 0, \"ticks\": \"\"}, \"colorscale\": [[0.0, \"#0d0887\"], [0.1111111111111111, \"#46039f\"], [0.2222222222222222, \"#7201a8\"], [0.3333333333333333, \"#9c179e\"], [0.4444444444444444, \"#bd3786\"], [0.5555555555555556, \"#d8576b\"], [0.6666666666666666, \"#ed7953\"], [0.7777777777777778, \"#fb9f3a\"], [0.8888888888888888, \"#fdca26\"], [1.0, \"#f0f921\"]], \"type\": \"heatmapgl\"}], \"histogram\": [{\"marker\": {\"colorbar\": {\"outlinewidth\": 0, \"ticks\": \"\"}}, \"type\": \"histogram\"}], \"histogram2d\": [{\"colorbar\": {\"outlinewidth\": 0, \"ticks\": \"\"}, \"colorscale\": [[0.0, \"#0d0887\"], [0.1111111111111111, \"#46039f\"], [0.2222222222222222, \"#7201a8\"], [0.3333333333333333, \"#9c179e\"], [0.4444444444444444, \"#bd3786\"], [0.5555555555555556, \"#d8576b\"], [0.6666666666666666, \"#ed7953\"], [0.7777777777777778, \"#fb9f3a\"], [0.8888888888888888, \"#fdca26\"], [1.0, \"#f0f921\"]], \"type\": \"histogram2d\"}], \"histogram2dcontour\": [{\"colorbar\": {\"outlinewidth\": 0, \"ticks\": \"\"}, \"colorscale\": [[0.0, \"#0d0887\"], [0.1111111111111111, \"#46039f\"], [0.2222222222222222, \"#7201a8\"], [0.3333333333333333, \"#9c179e\"], [0.4444444444444444, \"#bd3786\"], [0.5555555555555556, \"#d8576b\"], [0.6666666666666666, \"#ed7953\"], [0.7777777777777778, \"#fb9f3a\"], [0.8888888888888888, \"#fdca26\"], [1.0, \"#f0f921\"]], \"type\": \"histogram2dcontour\"}], \"mesh3d\": [{\"colorbar\": {\"outlinewidth\": 0, \"ticks\": \"\"}, \"type\": \"mesh3d\"}], \"parcoords\": [{\"line\": {\"colorbar\": {\"outlinewidth\": 0, \"ticks\": \"\"}}, \"type\": \"parcoords\"}], \"pie\": [{\"automargin\": true, \"type\": \"pie\"}], \"scatter\": [{\"marker\": {\"colorbar\": {\"outlinewidth\": 0, \"ticks\": \"\"}}, \"type\": \"scatter\"}], \"scatter3d\": [{\"line\": {\"colorbar\": {\"outlinewidth\": 0, \"ticks\": \"\"}}, \"marker\": {\"colorbar\": {\"outlinewidth\": 0, \"ticks\": \"\"}}, \"type\": \"scatter3d\"}], \"scattercarpet\": [{\"marker\": {\"colorbar\": {\"outlinewidth\": 0, \"ticks\": \"\"}}, \"type\": \"scattercarpet\"}], \"scattergeo\": [{\"marker\": {\"colorbar\": {\"outlinewidth\": 0, \"ticks\": \"\"}}, \"type\": \"scattergeo\"}], \"scattergl\": [{\"marker\": {\"colorbar\": {\"outlinewidth\": 0, \"ticks\": \"\"}}, \"type\": \"scattergl\"}], \"scattermapbox\": [{\"marker\": {\"colorbar\": {\"outlinewidth\": 0, \"ticks\": \"\"}}, \"type\": \"scattermapbox\"}], \"scatterpolar\": [{\"marker\": {\"colorbar\": {\"outlinewidth\": 0, \"ticks\": \"\"}}, \"type\": \"scatterpolar\"}], \"scatterpolargl\": [{\"marker\": {\"colorbar\": {\"outlinewidth\": 0, \"ticks\": \"\"}}, \"type\": \"scatterpolargl\"}], \"scatterternary\": [{\"marker\": {\"colorbar\": {\"outlinewidth\": 0, \"ticks\": \"\"}}, \"type\": \"scatterternary\"}], \"surface\": [{\"colorbar\": {\"outlinewidth\": 0, \"ticks\": \"\"}, \"colorscale\": [[0.0, \"#0d0887\"], [0.1111111111111111, \"#46039f\"], [0.2222222222222222, \"#7201a8\"], [0.3333333333333333, \"#9c179e\"], [0.4444444444444444, \"#bd3786\"], [0.5555555555555556, \"#d8576b\"], [0.6666666666666666, \"#ed7953\"], [0.7777777777777778, \"#fb9f3a\"], [0.8888888888888888, \"#fdca26\"], [1.0, \"#f0f921\"]], \"type\": \"surface\"}], \"table\": [{\"cells\": {\"fill\": {\"color\": \"#EBF0F8\"}, \"line\": {\"color\": \"white\"}}, \"header\": {\"fill\": {\"color\": \"#C8D4E3\"}, \"line\": {\"color\": \"white\"}}, \"type\": \"table\"}]}, \"layout\": {\"annotationdefaults\": {\"arrowcolor\": \"#2a3f5f\", \"arrowhead\": 0, \"arrowwidth\": 1}, \"coloraxis\": {\"colorbar\": {\"outlinewidth\": 0, \"ticks\": \"\"}}, \"colorscale\": {\"diverging\": [[0, \"#8e0152\"], [0.1, \"#c51b7d\"], [0.2, \"#de77ae\"], [0.3, \"#f1b6da\"], [0.4, \"#fde0ef\"], [0.5, \"#f7f7f7\"], [0.6, \"#e6f5d0\"], [0.7, \"#b8e186\"], [0.8, \"#7fbc41\"], [0.9, \"#4d9221\"], [1, \"#276419\"]], \"sequential\": [[0.0, \"#0d0887\"], [0.1111111111111111, \"#46039f\"], [0.2222222222222222, \"#7201a8\"], [0.3333333333333333, \"#9c179e\"], [0.4444444444444444, \"#bd3786\"], [0.5555555555555556, \"#d8576b\"], [0.6666666666666666, \"#ed7953\"], [0.7777777777777778, \"#fb9f3a\"], [0.8888888888888888, \"#fdca26\"], [1.0, \"#f0f921\"]], \"sequentialminus\": [[0.0, \"#0d0887\"], [0.1111111111111111, \"#46039f\"], [0.2222222222222222, \"#7201a8\"], [0.3333333333333333, \"#9c179e\"], [0.4444444444444444, \"#bd3786\"], [0.5555555555555556, \"#d8576b\"], [0.6666666666666666, \"#ed7953\"], [0.7777777777777778, \"#fb9f3a\"], [0.8888888888888888, \"#fdca26\"], [1.0, \"#f0f921\"]]}, \"colorway\": [\"#636efa\", \"#EF553B\", \"#00cc96\", \"#ab63fa\", \"#FFA15A\", \"#19d3f3\", \"#FF6692\", \"#B6E880\", \"#FF97FF\", \"#FECB52\"], \"font\": {\"color\": \"#2a3f5f\"}, \"geo\": {\"bgcolor\": \"white\", \"lakecolor\": \"white\", \"landcolor\": \"#E5ECF6\", \"showlakes\": true, \"showland\": true, \"subunitcolor\": \"white\"}, \"hoverlabel\": {\"align\": \"left\"}, \"hovermode\": \"closest\", \"mapbox\": {\"style\": \"light\"}, \"paper_bgcolor\": \"white\", \"plot_bgcolor\": \"#E5ECF6\", \"polar\": {\"angularaxis\": {\"gridcolor\": \"white\", \"linecolor\": \"white\", \"ticks\": \"\"}, \"bgcolor\": \"#E5ECF6\", \"radialaxis\": {\"gridcolor\": \"white\", \"linecolor\": \"white\", \"ticks\": \"\"}}, \"scene\": {\"xaxis\": {\"backgroundcolor\": \"#E5ECF6\", \"gridcolor\": \"white\", \"gridwidth\": 2, \"linecolor\": \"white\", \"showbackground\": true, \"ticks\": \"\", \"zerolinecolor\": \"white\"}, \"yaxis\": {\"backgroundcolor\": \"#E5ECF6\", \"gridcolor\": \"white\", \"gridwidth\": 2, \"linecolor\": \"white\", \"showbackground\": true, \"ticks\": \"\", \"zerolinecolor\": \"white\"}, \"zaxis\": {\"backgroundcolor\": \"#E5ECF6\", \"gridcolor\": \"white\", \"gridwidth\": 2, \"linecolor\": \"white\", \"showbackground\": true, \"ticks\": \"\", \"zerolinecolor\": \"white\"}}, \"shapedefaults\": {\"line\": {\"color\": \"#2a3f5f\"}}, \"ternary\": {\"aaxis\": {\"gridcolor\": \"white\", \"linecolor\": \"white\", \"ticks\": \"\"}, \"baxis\": {\"gridcolor\": \"white\", \"linecolor\": \"white\", \"ticks\": \"\"}, \"bgcolor\": \"#E5ECF6\", \"caxis\": {\"gridcolor\": \"white\", \"linecolor\": \"white\", \"ticks\": \"\"}}, \"title\": {\"x\": 0.05}, \"xaxis\": {\"automargin\": true, \"gridcolor\": \"white\", \"linecolor\": \"white\", \"ticks\": \"\", \"title\": {\"standoff\": 15}, \"zerolinecolor\": \"white\", \"zerolinewidth\": 2}, \"yaxis\": {\"automargin\": true, \"gridcolor\": \"white\", \"linecolor\": \"white\", \"ticks\": \"\", \"title\": {\"standoff\": 15}, \"zerolinecolor\": \"white\", \"zerolinewidth\": 2}}}, \"title\": {\"text\": \"02 Fr\\u00fchneuhochdeutsch early new high - 17.cent<br />PowerLaw ~ exponential: (0.9099044866641082, 0.8678211135260253)<br />PoweLaw ~ lognormal: (-3.655028997380052, 0.07638927954314911)\"}, \"xaxis\": {\"type\": \"log\"}, \"yaxis\": {\"type\": \"log\"}},                        {\"responsive\": true}                    ).then(function(){\n",
       "                            \n",
       "var gd = document.getElementById('e72d23a5-cc4f-42fd-97c2-fe2461981410');\n",
       "var x = new MutationObserver(function (mutations, observer) {{\n",
       "        var display = window.getComputedStyle(gd).display;\n",
       "        if (!display || display === 'none') {{\n",
       "            console.log([gd, 'removed!']);\n",
       "            Plotly.purge(gd);\n",
       "            observer.disconnect();\n",
       "        }}\n",
       "}});\n",
       "\n",
       "// Listen for the removal of the full notebook cells\n",
       "var notebookContainer = gd.closest('#notebook-container');\n",
       "if (notebookContainer) {{\n",
       "    x.observe(notebookContainer, {childList: true});\n",
       "}}\n",
       "\n",
       "// Listen for the clearing of the current output cell\n",
       "var outputEl = gd.closest('.output');\n",
       "if (outputEl) {{\n",
       "    x.observe(outputEl, {childList: true});\n",
       "}}\n",
       "\n",
       "                        })                };                });            </script>        </div>"
      ]
     },
     "metadata": {},
     "output_type": "display_data"
    },
    {
     "data": {
      "image/png": "[encoded data removed]",
      "text/plain": [
       "<Figure size 432x288 with 1 Axes>"
      ]
     },
     "metadata": {
      "needs_background": "light"
     },
     "output_type": "display_data"
    }
   ],
   "source": [
    "x, p = get_binning(degree_sequence, num_bins = 15, is_pmf = True, log_binning = True, threshold = 0, low=None, up=None)\n",
    "# get_binning(data=degree_sequence, num_bins = 15, is_pmf = False, log_binning = True, threshold = 0, low=None, up=None)\n",
    "\n",
    "fit = powerlaw.Fit(x, discrete=True, estimate_discrete=True)\n",
    "            # Calculating best minimal value for power law fit> \n",
    "fit.power_law.alpha\n",
    "fit.power_law.sigma\n",
    "\n",
    "title = \"{} - {}<br />PowerLaw ~ exponential: {}<br />PoweLaw ~ lognormal: {}\".format(\n",
    "    \"02 Frühneuhochdeutsch early new high\", \"17.cent\",\n",
    "    fit.distribution_compare('power_law', 'exponential'),\n",
    "    fit.distribution_compare('power_law', 'lognormal')\n",
    ")\n",
    "\n",
    "fig2 = fit.plot_pdf(color='b', linewidth=2)\n",
    "fit.power_law.plot_pdf(color='b', linestyle='--', ax=fig2)\n",
    "fit.plot_ccdf(color='r', linewidth=2, ax=fig2)\n",
    "fit.power_law.plot_ccdf(color='r', linestyle='--', ax=fig2)\n",
    "\n",
    "fig = go.Figure()\n",
    "\n",
    "fig.add_trace(go.Scatter(\n",
    "    x=x,\n",
    "    y=p\n",
    "))\n",
    "\n",
    "fig.update_layout(xaxis_type=\"log\", yaxis_type=\"log\", title=title)\n",
    "\n",
    "# fig.write_image(\"temp/L_{}_{}.png\".format(family, net))"
   ]
  },
  {
   "cell_type": "code",
   "execution_count": 10,
   "metadata": {
    "scrolled": false
   },
   "outputs": [
    {
     "name": "stdout",
     "output_type": "stream",
     "text": [
      "- Fitting power law to empirical data: n\n",
      "  DISCRETE\n",
      "  Approximate estimator for the scaling parameter of the discrete power law:\n",
      "  * Scaling parameter: alpha 2.35562\n",
      "  * Lower bound: xmin 2\n",
      "  Numerical maximization of the logarithm of the likelihood function L:\n",
      "  * Scaling parameter: alpha 2.47874\n",
      "  * Lower bound: xmin 2\n",
      "  * Logarithm of the likelihood function: L 5897.26\n",
      "  Generation of 100 power-law distributed synthetic data sets:\n",
      "  * Fraction of data sets with worse KS statistic than the empirical data: p-value 0\n",
      "  * KS statistic of the empirical data: D 0.0458026\n"
     ]
    },
    {
     "data": {
      "image/png": "[encoded data removed]",
      "text/plain": [
       "<Figure size 432x288 with 1 Axes>"
      ]
     },
     "metadata": {
      "needs_background": "light"
     },
     "output_type": "display_data"
    }
   ],
   "source": [
    "# plpva.example\n",
    "# x = np.array([1, 1, 1, 1, 1, 1, 2, 2, 2, 2, 3, 3, 4], dtype=float)  # sample data\n",
    "x = np.array(degree_sequence, dtype=float)  # sample data\n",
    "variable = \"n\"\n",
    "subject = \"example\"\n",
    "radius = 0.5\n",
    "number_of_sets = 100\n",
    "plpva_example.example.power_law(x, variable, subject, radius, number_of_sets)\n",
    "del x\n",
    "# Image(filename ='plplot_example.png')"
   ]
  },
  {
   "cell_type": "code",
   "execution_count": 6,
   "metadata": {
    "scrolled": true
   },
   "outputs": [],
   "source": [
    "# generate a power law using the \"inverse\" power-law generator code\n",
    "# X=plfit.plexp_inv(rand(1000),1,2.5)\n",
    "X = np.array(degree_sequence)\n",
    "\n",
    "# use the numpy version to fit (usefortran=False is only needed if you installed the fortran version)\n",
    "myplfit=plfit.plfit(X,usefortran=False)\n",
    "\n",
    "# output should look something like this:\n",
    "# PYTHON plfit executed in 0.201362 seconds\n",
    "# xmin: 0.621393 n(>xmin): 263 alpha: 2.39465 +/- 0.0859979   Log-Likelihood: -238.959   ks: 0.0278864 p(ks): 0.986695\n",
    "\n",
    "# generate some plots\n",
    "from pylab import *\n",
    "figure(1)\n",
    "myplfit.plotpdf()\n",
    "\n",
    "figure(2)\n",
    "myplfit.plotcdf()"
   ]
  },
  {
   "cell_type": "markdown",
   "metadata": {},
   "source": [
    "# POWERLAW PACKAGE"
   ]
  },
  {
   "cell_type": "code",
   "execution_count": 11,
   "metadata": {},
   "outputs": [
    {
     "data": {
      "text/plain": [
       "Index(['Source', 'Target', 'Interaction'], dtype='object')"
      ]
     },
     "execution_count": 11,
     "metadata": {},
     "output_type": "execute_result"
    }
   ],
   "source": [
    "cent_15.columns"
   ]
  },
  {
   "cell_type": "code",
   "execution_count": 7,
   "metadata": {
    "scrolled": true
   },
   "outputs": [
    {
     "name": "stdout",
     "output_type": "stream",
     "text": [
      "------------------------------------------------------\n",
      "---------------------------11.century.xlsx-----------------\n",
      "------------------------------------------------------\n",
      "fit.power_law.alpha:  2.418687224783902 fit.power_law.sigma:  0.0869852947939761 fit.xmin:  2.0 fit.power_law.parameter1_name:  None\n",
      "R is the loglikelihood ratio between the two candidate distributions. This number will be positive         if the data is more likely in the rst distribution, and negative if the data is more likely in the second         distribution.\n",
      "R:  2.730464839934862 p:  0.0063245079031006134\n"
     ]
    },
    {
     "name": "stderr",
     "output_type": "stream",
     "text": [
      "Calculating best minimal value for power law fit\n",
      "C:\\Anaconda3\\lib\\site-packages\\powerlaw.py:700: RuntimeWarning:\n",
      "\n",
      "invalid value encountered in true_divide\n",
      "\n",
      "C:\\Anaconda3\\lib\\site-packages\\powerlaw.py:700: RuntimeWarning:\n",
      "\n",
      "divide by zero encountered in true_divide\n",
      "\n",
      "C:\\Anaconda3\\lib\\site-packages\\powerlaw.py:1560: RuntimeWarning:\n",
      "\n",
      "invalid value encountered in true_divide\n",
      "\n",
      "Assuming nested distributions\n"
     ]
    },
    {
     "name": "stdout",
     "output_type": "stream",
     "text": [
      "test ('power_law', ' lognormal '):  R:  -1.306519769050626 p:  0.1913758606794187\n",
      "test ('power_law', ' exponential '):  R:  2.730464839934862 p:  0.0063245079031006134\n",
      "test ('power_law', ' truncated_power_law '):  R:  -0.7063365952899747 p:  0.1403283449114736\n",
      "test ('power_law', ' stretched_exponential '):  R:  0.5497626515563109 p:  0.5824821785818728\n",
      "test ('power_law', ' lognormal_positive '):  R:  2.138098375650986 p:  0.03250875975137625\n",
      "- Fitting power law to empirical data: GERMAN\n",
      "  DISCRETE\n",
      "  Approximate estimator for the scaling parameter of the discrete power law:\n",
      "  * Scaling parameter: alpha 2.41869\n",
      "  * Lower bound: xmin 2\n",
      "  Numerical maximization of the logarithm of the likelihood function L:\n",
      "  * Scaling parameter: alpha 2.19827\n",
      "  * Lower bound: xmin 6\n",
      "  * Logarithm of the likelihood function: L 1532.3\n",
      "  Generation of 100 power-law distributed synthetic data sets:\n",
      "  * Fraction of data sets with worse KS statistic than the empirical data: p-value 0.91\n",
      "  * KS statistic of the empirical data: D 0.0714252\n",
      "------------------------------------------------------\n",
      "---------------------------12. century.xlsx-----------------\n",
      "------------------------------------------------------\n",
      "fit.power_law.alpha:  2.379425413338228 fit.power_law.sigma:  0.08017747356189296 fit.xmin:  2.0 fit.power_law.parameter1_name:  None\n",
      "R is the loglikelihood ratio between the two candidate distributions. This number will be positive         if the data is more likely in the rst distribution, and negative if the data is more likely in the second         distribution.\n",
      "R:  3.1243522937451367 p:  0.0017819696336960839\n",
      "test ('power_law', ' lognormal '):  R:  -1.311272733587169 p:  0.18976563690984816\n",
      "test ('power_law', ' exponential '):  R:  3.1243522937451367 p:  0.0017819696336960839\n"
     ]
    },
    {
     "name": "stderr",
     "output_type": "stream",
     "text": [
      "Calculating best minimal value for power law fit\n",
      "C:\\Anaconda3\\lib\\site-packages\\powerlaw.py:700: RuntimeWarning:\n",
      "\n",
      "invalid value encountered in true_divide\n",
      "\n",
      "C:\\Anaconda3\\lib\\site-packages\\powerlaw.py:700: RuntimeWarning:\n",
      "\n",
      "divide by zero encountered in true_divide\n",
      "\n",
      "C:\\Anaconda3\\lib\\site-packages\\powerlaw.py:1560: RuntimeWarning:\n",
      "\n",
      "invalid value encountered in true_divide\n",
      "\n",
      "Assuming nested distributions\n"
     ]
    },
    {
     "name": "stdout",
     "output_type": "stream",
     "text": [
      "test ('power_law', ' truncated_power_law '):  R:  -0.7092458457906148 p:  0.1386496484387606\n",
      "test ('power_law', ' stretched_exponential '):  R:  0.4774632685552981 p:  0.6330322708013012\n",
      "test ('power_law', ' lognormal_positive '):  R:  2.495463304764263 p:  0.01257927653675177\n",
      "- Fitting power law to empirical data: GERMAN\n",
      "  DISCRETE\n",
      "  Approximate estimator for the scaling parameter of the discrete power law:\n",
      "  * Scaling parameter: alpha 2.37943\n",
      "  * Lower bound: xmin 2\n",
      "  Numerical maximization of the logarithm of the likelihood function L:\n",
      "  * Scaling parameter: alpha 1.98362\n",
      "  * Lower bound: xmin 8\n",
      "  * Logarithm of the likelihood function: L 1403.28\n",
      "  Generation of 100 power-law distributed synthetic data sets:\n",
      "  * Fraction of data sets with worse KS statistic than the empirical data: p-value 0.95\n",
      "  * KS statistic of the empirical data: D 0.0822192\n",
      "------------------------------------------------------\n",
      "---------------------------13century .xlsx-----------------\n",
      "------------------------------------------------------\n"
     ]
    },
    {
     "name": "stderr",
     "output_type": "stream",
     "text": [
      "Calculating best minimal value for power law fit\n",
      "C:\\Anaconda3\\lib\\site-packages\\powerlaw.py:700: RuntimeWarning:\n",
      "\n",
      "invalid value encountered in true_divide\n",
      "\n",
      "C:\\Anaconda3\\lib\\site-packages\\powerlaw.py:700: RuntimeWarning:\n",
      "\n",
      "divide by zero encountered in true_divide\n",
      "\n",
      "C:\\Anaconda3\\lib\\site-packages\\powerlaw.py:1560: RuntimeWarning:\n",
      "\n",
      "invalid value encountered in true_divide\n",
      "\n",
      "Assuming nested distributions\n"
     ]
    },
    {
     "name": "stdout",
     "output_type": "stream",
     "text": [
      "fit.power_law.alpha:  2.3614281686660474 fit.power_law.sigma:  0.09650908407362796 fit.xmin:  3.0 fit.power_law.parameter1_name:  None\n",
      "R is the loglikelihood ratio between the two candidate distributions. This number will be positive         if the data is more likely in the rst distribution, and negative if the data is more likely in the second         distribution.\n",
      "R:  3.3545037840285534 p:  0.0007950746571563864\n",
      "test ('power_law', ' lognormal '):  R:  -1.061778864899218 p:  0.2883360867686897\n",
      "test ('power_law', ' exponential '):  R:  3.3545037840285534 p:  0.0007950746571563864\n",
      "test ('power_law', ' truncated_power_law '):  R:  -0.21002329403706707 p:  0.649396353474021\n",
      "test ('power_law', ' stretched_exponential '):  R:  1.5512256632144716 p:  0.12084761410519226\n",
      "test ('power_law', ' lognormal_positive '):  R:  2.5258975879764627 p:  0.011540311699613748\n",
      "- Fitting power law to empirical data: GERMAN\n",
      "  DISCRETE\n",
      "  Approximate estimator for the scaling parameter of the discrete power law:\n",
      "  * Scaling parameter: alpha 2.36143\n",
      "  * Lower bound: xmin 3\n",
      "  Numerical maximization of the logarithm of the likelihood function L:\n",
      "  * Scaling parameter: alpha 2.19938\n",
      "  * Lower bound: xmin 3\n",
      "  * Logarithm of the likelihood function: L 2502.72\n",
      "  Generation of 100 power-law distributed synthetic data sets:\n",
      "  * Fraction of data sets with worse KS statistic than the empirical data: p-value 0.02\n",
      "  * KS statistic of the empirical data: D 0.081027\n",
      "------------------------------------------------------\n",
      "---------------------------E14.xlsx-----------------\n",
      "------------------------------------------------------\n",
      "fit.power_law.alpha:  2.359840552123119 fit.power_law.sigma:  0.12066633656944518 fit.xmin:  4.0 fit.power_law.parameter1_name:  None\n",
      "R is the loglikelihood ratio between the two candidate distributions. This number will be positive         if the data is more likely in the rst distribution, and negative if the data is more likely in the second         distribution.\n",
      "R:  3.4554261047572683 p:  0.0005494237724730426\n"
     ]
    },
    {
     "name": "stderr",
     "output_type": "stream",
     "text": [
      "Calculating best minimal value for power law fit\n",
      "C:\\Anaconda3\\lib\\site-packages\\powerlaw.py:700: RuntimeWarning:\n",
      "\n",
      "invalid value encountered in true_divide\n",
      "\n",
      "C:\\Anaconda3\\lib\\site-packages\\powerlaw.py:1560: RuntimeWarning:\n",
      "\n",
      "invalid value encountered in true_divide\n",
      "\n",
      "C:\\Anaconda3\\lib\\site-packages\\powerlaw.py:700: RuntimeWarning:\n",
      "\n",
      "divide by zero encountered in true_divide\n",
      "\n",
      "Assuming nested distributions\n"
     ]
    },
    {
     "name": "stdout",
     "output_type": "stream",
     "text": [
      "test ('power_law', ' lognormal '):  R:  -1.0177463513922218 p:  0.3087985134326705\n",
      "test ('power_law', ' exponential '):  R:  3.4554261047572683 p:  0.0005494237724730426\n",
      "test ('power_law', ' truncated_power_law '):  R:  -0.08590324866051659 p:  0.8501244917084616\n",
      "test ('power_law', ' stretched_exponential '):  R:  1.5378929298123287 p:  0.12407479629630391\n",
      "test ('power_law', ' lognormal_positive '):  R:  2.049474588717745 p:  0.04041573018528226\n",
      "- Fitting power law to empirical data: GERMAN\n",
      "  DISCRETE\n",
      "  Approximate estimator for the scaling parameter of the discrete power law:\n",
      "  * Scaling parameter: alpha 2.35984\n",
      "  * Lower bound: xmin 4\n",
      "  Numerical maximization of the logarithm of the likelihood function L:\n",
      "  * Scaling parameter: alpha 2.1993\n",
      "  * Lower bound: xmin 4\n",
      "  * Logarithm of the likelihood function: L 2873.42\n",
      "  Generation of 100 power-law distributed synthetic data sets:\n",
      "  * Fraction of data sets with worse KS statistic than the empirical data: p-value 0.17\n",
      "  * KS statistic of the empirical data: D 0.0806869\n",
      "------------------------------------------------------\n",
      "---------------------------15cent.xlsx-----------------\n",
      "------------------------------------------------------\n"
     ]
    },
    {
     "name": "stderr",
     "output_type": "stream",
     "text": [
      "Calculating best minimal value for power law fit\n",
      "C:\\Anaconda3\\lib\\site-packages\\powerlaw.py:700: RuntimeWarning:\n",
      "\n",
      "invalid value encountered in true_divide\n",
      "\n",
      "C:\\Anaconda3\\lib\\site-packages\\powerlaw.py:1560: RuntimeWarning:\n",
      "\n",
      "invalid value encountered in true_divide\n",
      "\n",
      "Assuming nested distributions\n"
     ]
    },
    {
     "name": "stdout",
     "output_type": "stream",
     "text": [
      "fit.power_law.alpha:  2.2845060300178774 fit.power_law.sigma:  0.111380798454235 fit.xmin:  4.0 fit.power_law.parameter1_name:  None\n",
      "R is the loglikelihood ratio between the two candidate distributions. This number will be positive         if the data is more likely in the rst distribution, and negative if the data is more likely in the second         distribution.\n",
      "R:  3.223445196190999 p:  0.0012665853238127758\n",
      "test ('power_law', ' lognormal '):  R:  -1.0171402958996238 p:  0.30908669327659044\n",
      "test ('power_law', ' exponential '):  R:  3.223445196190999 p:  0.0012665853238127758\n",
      "test ('power_law', ' truncated_power_law '):  R:  -0.09996533850961621 p:  0.8500765498657981\n",
      "test ('power_law', ' stretched_exponential '):  R:  1.3527783863620695 p:  0.17612643962346353\n",
      "test ('power_law', ' lognormal_positive '):  R:  2.0892031892705734 p:  0.03668943647378032\n",
      "- Fitting power law to empirical data: GERMAN\n",
      "  DISCRETE\n",
      "  Approximate estimator for the scaling parameter of the discrete power law:\n",
      "  * Scaling parameter: alpha 2.28451\n",
      "  * Lower bound: xmin 4\n",
      "  Numerical maximization of the logarithm of the likelihood function L:\n",
      "  * Scaling parameter: alpha 2.17519\n",
      "  * Lower bound: xmin 7\n",
      "  * Logarithm of the likelihood function: L 3427.25\n",
      "  Generation of 100 power-law distributed synthetic data sets:\n",
      "  * Fraction of data sets with worse KS statistic than the empirical data: p-value 0.97\n",
      "  * KS statistic of the empirical data: D 0.0470418\n",
      "------------------------------------------------------\n",
      "---------------------------16.cent.xlsx-----------------\n",
      "------------------------------------------------------\n"
     ]
    },
    {
     "name": "stderr",
     "output_type": "stream",
     "text": [
      "Calculating best minimal value for power law fit\n",
      "C:\\Anaconda3\\lib\\site-packages\\powerlaw.py:700: RuntimeWarning:\n",
      "\n",
      "invalid value encountered in true_divide\n",
      "\n",
      "C:\\Anaconda3\\lib\\site-packages\\powerlaw.py:700: RuntimeWarning:\n",
      "\n",
      "divide by zero encountered in true_divide\n",
      "\n",
      "C:\\Anaconda3\\lib\\site-packages\\powerlaw.py:1560: RuntimeWarning:\n",
      "\n",
      "invalid value encountered in true_divide\n",
      "\n",
      "Assuming nested distributions\n"
     ]
    },
    {
     "name": "stdout",
     "output_type": "stream",
     "text": [
      "fit.power_law.alpha:  2.3923240227647096 fit.power_law.sigma:  0.06777727296615846 fit.xmin:  3.0 fit.power_law.parameter1_name:  None\n",
      "R is the loglikelihood ratio between the two candidate distributions. This number will be positive         if the data is more likely in the rst distribution, and negative if the data is more likely in the second         distribution.\n",
      "R:  4.309784258683822 p:  1.6341388665531645e-05\n",
      "test ('power_law', ' lognormal '):  R:  -1.1034789852243945 p:  0.26981921264784703\n",
      "test ('power_law', ' exponential '):  R:  4.309784258683822 p:  1.6341388665531645e-05\n",
      "test ('power_law', ' truncated_power_law '):  R:  -0.3185315986972044 p:  0.4912685817855519\n",
      "test ('power_law', ' stretched_exponential '):  R:  2.257999903492808 p:  0.023945665451462025\n",
      "test ('power_law', ' lognormal_positive '):  R:  3.4088943316516103 p:  0.0006522673974712608\n",
      "- Fitting power law to empirical data: GERMAN\n",
      "  DISCRETE\n",
      "  Approximate estimator for the scaling parameter of the discrete power law:\n",
      "  * Scaling parameter: alpha 2.39232\n",
      "  * Lower bound: xmin 3\n",
      "  Numerical maximization of the logarithm of the likelihood function L:\n",
      "  * Scaling parameter: alpha 2.19973\n",
      "  * Lower bound: xmin 2\n",
      "  * Logarithm of the likelihood function: L 3169.01\n",
      "  Generation of 100 power-law distributed synthetic data sets:\n",
      "  * Fraction of data sets with worse KS statistic than the empirical data: p-value 0\n",
      "  * KS statistic of the empirical data: D 0.0453028\n",
      "------------------------------------------------------\n",
      "---------------------------17.cent.xlsx-----------------\n",
      "------------------------------------------------------\n"
     ]
    },
    {
     "name": "stderr",
     "output_type": "stream",
     "text": [
      "Calculating best minimal value for power law fit\n",
      "C:\\Anaconda3\\lib\\site-packages\\powerlaw.py:700: RuntimeWarning:\n",
      "\n",
      "invalid value encountered in true_divide\n",
      "\n",
      "C:\\Anaconda3\\lib\\site-packages\\powerlaw.py:700: RuntimeWarning:\n",
      "\n",
      "divide by zero encountered in true_divide\n",
      "\n",
      "Assuming nested distributions\n"
     ]
    },
    {
     "name": "stdout",
     "output_type": "stream",
     "text": [
      "fit.power_law.alpha:  2.3556178763355415 fit.power_law.sigma:  0.041598246950790924 fit.xmin:  2.0 fit.power_law.parameter1_name:  None\n",
      "R is the loglikelihood ratio between the two candidate distributions. This number will be positive         if the data is more likely in the rst distribution, and negative if the data is more likely in the second         distribution.\n",
      "R:  3.9533626285185166 p:  7.706051339408023e-05\n",
      "test ('power_law', ' lognormal '):  R:  -0.6886408011672426 p:  0.49104933830558795\n",
      "test ('power_law', ' exponential '):  R:  3.9533626285185166 p:  7.706051339408023e-05\n",
      "test ('power_law', ' truncated_power_law '):  R:  -1.3921251198181224 p:  0.006508538720128798\n",
      "test ('power_law', ' stretched_exponential '):  R:  0.42603708453487427 p:  0.6700808237006335\n",
      "test ('power_law', ' lognormal_positive '):  R:  2.3594526084464404 p:  0.018301918382711085\n",
      "- Fitting power law to empirical data: GERMAN\n",
      "  DISCRETE\n",
      "  Approximate estimator for the scaling parameter of the discrete power law:\n",
      "  * Scaling parameter: alpha 2.35562\n",
      "  * Lower bound: xmin 2\n",
      "  Numerical maximization of the logarithm of the likelihood function L:\n",
      "  * Scaling parameter: alpha 1.9756\n",
      "  * Lower bound: xmin 12\n",
      "  * Logarithm of the likelihood function: L 5762.26\n",
      "  Generation of 100 power-law distributed synthetic data sets:\n",
      "  * Fraction of data sets with worse KS statistic than the empirical data: p-value 0.77\n",
      "  * KS statistic of the empirical data: D 0.0767769\n",
      "------------------------------------------------------\n",
      "---------------------------L14.Century.xlsx-----------------\n",
      "------------------------------------------------------\n"
     ]
    },
    {
     "name": "stderr",
     "output_type": "stream",
     "text": [
      "Calculating best minimal value for power law fit\n",
      "C:\\Anaconda3\\lib\\site-packages\\powerlaw.py:700: RuntimeWarning:\n",
      "\n",
      "invalid value encountered in true_divide\n",
      "\n",
      "C:\\Anaconda3\\lib\\site-packages\\powerlaw.py:700: RuntimeWarning:\n",
      "\n",
      "divide by zero encountered in true_divide\n",
      "\n",
      "C:\\Anaconda3\\lib\\site-packages\\powerlaw.py:1560: RuntimeWarning:\n",
      "\n",
      "invalid value encountered in true_divide\n",
      "\n",
      "Assuming nested distributions\n"
     ]
    },
    {
     "name": "stdout",
     "output_type": "stream",
     "text": [
      "fit.power_law.alpha:  2.410529703823289 fit.power_law.sigma:  0.08326093581828957 fit.xmin:  3.0 fit.power_law.parameter1_name:  None\n",
      "R is the loglikelihood ratio between the two candidate distributions. This number will be positive         if the data is more likely in the rst distribution, and negative if the data is more likely in the second         distribution.\n",
      "R:  3.3429408648467227 p:  0.0008289556298241861\n",
      "test ('power_law', ' lognormal '):  R:  -1.0782069853439897 p:  0.2809413952951012\n",
      "test ('power_law', ' exponential '):  R:  3.3429408648467227 p:  0.0008289556298241861\n",
      "test ('power_law', ' truncated_power_law '):  R:  -0.2720082902594924 p:  0.5615294751928611\n",
      "test ('power_law', ' stretched_exponential '):  R:  1.5438941250849794 p:  0.12261398357432933\n",
      "test ('power_law', ' lognormal_positive '):  R:  2.608282422138607 p:  0.009099784117995866\n",
      "- Fitting power law to empirical data: GERMAN\n",
      "  DISCRETE\n",
      "  Approximate estimator for the scaling parameter of the discrete power law:\n",
      "  * Scaling parameter: alpha 2.41053\n",
      "  * Lower bound: xmin 3\n",
      "  Numerical maximization of the logarithm of the likelihood function L:\n",
      "  * Scaling parameter: alpha 2.1996\n",
      "  * Lower bound: xmin 2\n",
      "  * Logarithm of the likelihood function: L 2089.51\n",
      "  Generation of 100 power-law distributed synthetic data sets:\n",
      "  * Fraction of data sets with worse KS statistic than the empirical data: p-value 0.01\n",
      "  * KS statistic of the empirical data: D 0.0560581\n"
     ]
    }
   ],
   "source": [
    "families = {\n",
    "    \"01 Mittelhochdeutsch middle high\":[\"11.century.xlsx\", \"12. century.xlsx\", \"13century .xlsx\", \"E14.xlsx\"], \n",
    "    \"02 Frühneuhochdeutsch early new high\": [\"15cent.xlsx\", \"16.cent.xlsx\", \"17.cent.xlsx\", \"L14.Century.xlsx\"], \n",
    "           }\n",
    "\n",
    "%matplotlib notebook\n",
    "\n",
    "for family, nets in families.items():\n",
    "    for net in nets:\n",
    "        print('------------------------------------------------------')\n",
    "        print(f'---------------------------{net}-----------------')\n",
    "        print('------------------------------------------------------')\n",
    "        cent_15 = pd.read_excel(path_dataset_dir + family + \"/\" + net).rename(columns={\n",
    "            'Source ': 'Source'\n",
    "        })\n",
    "\n",
    "        G=nx.from_pandas_edgelist(cent_15, 'Source', 'Target')\n",
    "        # nx.draw(G, with_labels=True)\n",
    "#         degree_sequence = sorted([d for n, d in G.degree()], reverse=True)\n",
    "        degree_sequence = np.array([d for n, d in G.degree()])\n",
    "        \n",
    "        \n",
    "        fit = powerlaw.Fit(degree_sequence, discrete=True, estimate_discrete=True)\n",
    "    \n",
    "        print(\"fit.power_law.alpha: \", fit.power_law.alpha, \"fit.power_law.sigma: \", fit.power_law.sigma,\n",
    "             \"fit.xmin: \", fit.xmin, \"fit.power_law.parameter1_name: \", fit.power_law.parameter1_name)\n",
    "\n",
    "        print(\"R is the loglikelihood ratio between the two candidate distributions. This number will be positive         if the data is more likely in the rst distribution, and negative if the data is more likely in the second         distribution.\")\n",
    "        R, p = fit.distribution_compare('power_law', 'exponential', normalized_ratio=True)\n",
    "        print (\"R: \", R, \"p: \", p)\n",
    "#         print(\"Also test with: \", fit.supported_distributions)\n",
    "\n",
    "        for dist_name in fit.supported_distributions.keys():\n",
    "            if dist_name == 'power_law':\n",
    "                continue\n",
    "\n",
    "            R, p = fit.distribution_compare('power_law', dist_name, normalized_ratio=True)\n",
    "            print (\"test ('power_law', '\", dist_name, \"'): \", \"R: \", R, \"p: \", p)\n",
    "    \n",
    "    \n",
    "        variable = \"GERMAN\"\n",
    "        subject = family\n",
    "        radius = 0.2 #0.5\n",
    "        number_of_sets = 100\n",
    "        plpva_example.example.power_law(degree_sequence, variable, subject, radius, number_of_sets)\n",
    "    \n",
    "        if False:\n",
    "    \n",
    "            fit = powerlaw.Fit(X, discrete=True, estimate_discrete=True)\n",
    "            # Calculating best minimal value for power law fit> \n",
    "            fit.power_law.alpha\n",
    "            fit.power_law.sigma\n",
    "\n",
    "            title = \"{} - {}<br />PowerLaw ~ exponential: {}<br />PoweLaw ~ lognormal: {}\".format(\n",
    "                family, net,\n",
    "                fit.distribution_compare('power_law', 'exponential'),\n",
    "                fit.distribution_compare('power_law', 'lognormal')\n",
    "            )\n",
    "\n",
    "            fig2 = fit.plot_pdf(color='b', linewidth=2)\n",
    "            fit.power_law.plot_pdf(color='b', linestyle='--', ax=fig2)\n",
    "            fit.plot_ccdf(color='r', linewidth=2, ax=fig2)\n",
    "            fit.power_law.plot_ccdf(color='r', linestyle='--', ax=fig2)\n",
    "            # ---------------------------------------------\n",
    "            # G=  nx.from_pandas_edgelist(cent_15, 'Source', 'Target')\n",
    "            # G = G.to_directed()\n",
    "            # nx.draw(G, with_labels=True)\n",
    "            # degree_sequence = sorted([d for n, d in G.in_degree()], reverse=True)\n",
    "\n",
    "            x, p = get_binning(data=degree_sequence, num_bins = 15, \n",
    "                               is_pmf = False, log_binning = True, threshold = 0, low=None, up=None)\n",
    "\n",
    "            if False:\n",
    "                degreeCount = collections.Counter(X)\n",
    "                deg, cnt = zip(*degreeCount.items())\n",
    "\n",
    "            fig = go.Figure()\n",
    "\n",
    "            fig.add_trace(go.Scatter(\n",
    "                x=x,\n",
    "                y=p\n",
    "            ))\n",
    "\n",
    "            fig.update_layout(xaxis_type=\"log\", yaxis_type=\"log\", title=title)\n",
    "\n",
    "            fig.write_image(\"temp/L_{}_{}.png\".format(family, net))\n",
    "\n",
    "    #         pio.show(fig, renderer='browser', validate=True)\n",
    "\n",
    "            # fig.show()\n",
    "\n",
    "            # fig, ax = plt.subplots()\n",
    "            # plt.bar(np.log(deg), np.log(cnt), width=0.80, color='b')\n",
    "            pass\n",
    "        pass"
   ]
  },
  {
   "cell_type": "code",
   "execution_count": 85,
   "metadata": {},
   "outputs": [
    {
     "ename": "NameError",
     "evalue": "name 'family' is not defined",
     "output_type": "error",
     "traceback": [
      "\u001b[1;31m---------------------------------------------------------------------------\u001b[0m",
      "\u001b[1;31mNameError\u001b[0m                                 Traceback (most recent call last)",
      "\u001b[1;32m<ipython-input-85-c0f8317bdb99>\u001b[0m in \u001b[0;36m<module>\u001b[1;34m\u001b[0m\n\u001b[0;32m     11\u001b[0m ))\n\u001b[0;32m     12\u001b[0m \u001b[1;33m\u001b[0m\u001b[0m\n\u001b[1;32m---> 13\u001b[1;33m \u001b[0mfig\u001b[0m\u001b[1;33m.\u001b[0m\u001b[0mupdate_layout\u001b[0m\u001b[1;33m(\u001b[0m\u001b[0mxaxis_type\u001b[0m\u001b[1;33m=\u001b[0m\u001b[1;34m\"log\"\u001b[0m\u001b[1;33m,\u001b[0m \u001b[0myaxis_type\u001b[0m\u001b[1;33m=\u001b[0m\u001b[1;34m\"log\"\u001b[0m\u001b[1;33m,\u001b[0m \u001b[0mtitle\u001b[0m\u001b[1;33m=\u001b[0m\u001b[1;34m\"{} - {}\"\u001b[0m\u001b[1;33m.\u001b[0m\u001b[0mformat\u001b[0m\u001b[1;33m(\u001b[0m\u001b[0mfamily\u001b[0m\u001b[1;33m,\u001b[0m \u001b[0mnet\u001b[0m\u001b[1;33m)\u001b[0m\u001b[1;33m)\u001b[0m\u001b[1;33m\u001b[0m\u001b[1;33m\u001b[0m\u001b[0m\n\u001b[0m\u001b[0;32m     14\u001b[0m \u001b[0mfig\u001b[0m\u001b[1;33m.\u001b[0m\u001b[0mshow\u001b[0m\u001b[1;33m(\u001b[0m\u001b[1;33m)\u001b[0m\u001b[1;33m\u001b[0m\u001b[1;33m\u001b[0m\u001b[0m\n\u001b[0;32m     15\u001b[0m \u001b[1;33m\u001b[0m\u001b[0m\n",
      "\u001b[1;31mNameError\u001b[0m: name 'family' is not defined"
     ]
    }
   ],
   "source": [
    "degreeCount = collections.Counter(X)\n",
    "deg, cnt = zip(*degreeCount.items())\n",
    "\n",
    "import plotly.graph_objects as go\n",
    "\n",
    "fig = go.Figure()\n",
    "\n",
    "fig.add_trace(go.Scatter(\n",
    "    x=x,\n",
    "    y=p\n",
    "))\n",
    "\n",
    "fig.update_layout(xaxis_type=\"log\", yaxis_type=\"log\", title=\"{} - {}\".format(family, net))\n",
    "fig.show()\n",
    "\n",
    "# fig, ax = plt.subplots()\n",
    "# plt.bar(np.log(deg), np.log(cnt), width=0.80, color='b')"
   ]
  },
  {
   "cell_type": "code",
   "execution_count": 13,
   "metadata": {},
   "outputs": [
    {
     "name": "stderr",
     "output_type": "stream",
     "text": [
      "Calculating best minimal value for power law fit\n",
      "C:\\Anaconda3\\lib\\site-packages\\powerlaw.py:700: RuntimeWarning:\n",
      "\n",
      "invalid value encountered in true_divide\n",
      "\n"
     ]
    },
    {
     "data": {
      "text/plain": [
       "(73.34520449577172, 0.0012665853238127758)"
      ]
     },
     "execution_count": 13,
     "metadata": {},
     "output_type": "execute_result"
    }
   ],
   "source": [
    "path_dataset_dir = \"../German/\"\n",
    "cent_15 = pd.read_excel( path_dataset_dir + \"/02 Frühneuhochdeutsch early new high/15cent.xlsx\")\n",
    "\n",
    "G=nx.from_pandas_edgelist(cent_15, 'Source', 'Target')\n",
    "# nx.draw(G, with_labels=True)\n",
    "degree_sequence = sorted([d for n, d in G.degree()], reverse=True)\n",
    "data = degree_sequence\n",
    "fit = powerlaw.Fit(data, discrete=True, estimate_discrete=True)\n",
    "\n",
    "fit.distribution_compare('power_law', 'exponential')"
   ]
  },
  {
   "cell_type": "code",
   "execution_count": 14,
   "metadata": {},
   "outputs": [
    {
     "data": {
      "text/plain": [
       "<AxesSubplot:>"
      ]
     },
     "execution_count": 14,
     "metadata": {},
     "output_type": "execute_result"
    }
   ],
   "source": [
    "fit.power_law.plot_pdf(color='b')"
   ]
  },
  {
   "cell_type": "code",
   "execution_count": 38,
   "metadata": {},
   "outputs": [
    {
     "name": "stdout",
     "output_type": "stream",
     "text": [
      "fit.power_law.alpha:  2.5504404974544377 fit.power_law.sigma:  0.13444024124966789 fit.xmin:  4.0 fit.power_law.parameter1_name:  None\n",
      "R is the loglikelihood ratio between the two candidate distributions. This number will be positive\n",
      "if the data is more likely in the \f",
      "rst distribution, and negative if the data is more likely in the second\n",
      "distribution.\n",
      "R:  3.841046580239975 p:  0.00012251086210349107\n",
      "Also test with:  {'power_law': <class 'powerlaw.Power_Law'>, 'lognormal': <class 'powerlaw.Lognormal'>, 'exponential': <class 'powerlaw.Exponential'>, 'truncated_power_law': <class 'powerlaw.Truncated_Power_Law'>, 'stretched_exponential': <class 'powerlaw.Stretched_Exponential'>, 'lognormal_positive': <class 'powerlaw.Lognormal_Positive'>}\n"
     ]
    }
   ],
   "source": [
    "print(\"fit.power_law.alpha: \", fit.power_law.alpha, \"fit.power_law.sigma: \", fit.power_law.sigma,\n",
    "     \"fit.xmin: \", fit.xmin, \"fit.power_law.parameter1_name: \", fit.power_law.parameter1_name)\n",
    "\n",
    "print(\"\"\"R is the loglikelihood ratio between the two candidate distributions. This number will be positive\n",
    "if the data is more likely in the \f",
    "rst distribution, and negative if the data is more likely in the second\n",
    "distribution.\"\"\")\n",
    "R, p = fit.distribution_compare('power_law', 'exponential', normalized_ratio=True)\n",
    "print (\"R: \", R, \"p: \", p)\n",
    "print(\"Also test with: \", fit.supported_distributions)"
   ]
  },
  {
   "cell_type": "code",
   "execution_count": 15,
   "metadata": {},
   "outputs": [
    {
     "name": "stderr",
     "output_type": "stream",
     "text": [
      "C:\\Anaconda3\\lib\\site-packages\\powerlaw.py:1560: RuntimeWarning:\n",
      "\n",
      "invalid value encountered in true_divide\n",
      "\n",
      "C:\\Anaconda3\\lib\\site-packages\\powerlaw.py:700: RuntimeWarning:\n",
      "\n",
      "invalid value encountered in true_divide\n",
      "\n",
      "Assuming nested distributions\n"
     ]
    },
    {
     "name": "stdout",
     "output_type": "stream",
     "text": [
      "test ('power_law', ' lognormal '):  R:  -1.0171402958996238 p:  0.30908669327659044\n",
      "test ('power_law', ' exponential '):  R:  3.223445196190999 p:  0.0012665853238127758\n",
      "test ('power_law', ' truncated_power_law '):  R:  -0.09996533850961621 p:  0.8500765498657981\n",
      "test ('power_law', ' stretched_exponential '):  R:  1.3527783863620695 p:  0.17612643962346353\n",
      "test ('power_law', ' lognormal_positive '):  R:  2.0892031892705734 p:  0.03668943647378032\n"
     ]
    }
   ],
   "source": [
    "for dist_name in fit.supported_distributions.keys():\n",
    "    if dist_name == 'power_law':\n",
    "        continue\n",
    "        \n",
    "    R, p = fit.distribution_compare('power_law', dist_name, normalized_ratio=True)\n",
    "    print (\"test ('power_law', '\", dist_name, \"'): \", \"R: \", R, \"p: \", p)"
   ]
  },
  {
   "cell_type": "code",
   "execution_count": 57,
   "metadata": {},
   "outputs": [
    {
     "data": {
      "text/plain": [
       "[1,\n",
       " 1,\n",
       " 1,\n",
       " 1,\n",
       " 1,\n",
       " 1,\n",
       " 1,\n",
       " 1,\n",
       " 1,\n",
       " 1,\n",
       " 1,\n",
       " 1,\n",
       " 1,\n",
       " 1,\n",
       " 1,\n",
       " 1,\n",
       " 1,\n",
       " 1,\n",
       " 1,\n",
       " 1,\n",
       " 1,\n",
       " 1,\n",
       " 1,\n",
       " 1,\n",
       " 1,\n",
       " 1,\n",
       " 1,\n",
       " 1,\n",
       " 1,\n",
       " 1,\n",
       " 1,\n",
       " 1,\n",
       " 1,\n",
       " 1,\n",
       " 1,\n",
       " 1,\n",
       " 1,\n",
       " 1,\n",
       " 1,\n",
       " 1,\n",
       " 1,\n",
       " 1,\n",
       " 1,\n",
       " 1,\n",
       " 1,\n",
       " 1,\n",
       " 1,\n",
       " 1,\n",
       " 1,\n",
       " 1,\n",
       " 1,\n",
       " 1,\n",
       " 1,\n",
       " 1,\n",
       " 1,\n",
       " 1,\n",
       " 1,\n",
       " 1,\n",
       " 1,\n",
       " 1,\n",
       " 1,\n",
       " 1,\n",
       " 1,\n",
       " 1,\n",
       " 1,\n",
       " 1,\n",
       " 1,\n",
       " 1,\n",
       " 1,\n",
       " 1,\n",
       " 1,\n",
       " 1,\n",
       " 1,\n",
       " 1,\n",
       " 1,\n",
       " 1,\n",
       " 1,\n",
       " 1,\n",
       " 1,\n",
       " 1,\n",
       " 1,\n",
       " 1,\n",
       " 1,\n",
       " 1,\n",
       " 1,\n",
       " 1,\n",
       " 1,\n",
       " 1,\n",
       " 1,\n",
       " 1,\n",
       " 1,\n",
       " 1,\n",
       " 1,\n",
       " 1,\n",
       " 1,\n",
       " 1,\n",
       " 1,\n",
       " 1,\n",
       " 1,\n",
       " 1,\n",
       " 1,\n",
       " 1,\n",
       " 1,\n",
       " 1,\n",
       " 1,\n",
       " 1,\n",
       " 1,\n",
       " 1,\n",
       " 1,\n",
       " 1,\n",
       " 1,\n",
       " 1,\n",
       " 1,\n",
       " 1,\n",
       " 1,\n",
       " 1,\n",
       " 1,\n",
       " 1,\n",
       " 1,\n",
       " 1,\n",
       " 1,\n",
       " 1,\n",
       " 1,\n",
       " 1,\n",
       " 1,\n",
       " 1,\n",
       " 1,\n",
       " 1,\n",
       " 1,\n",
       " 1,\n",
       " 1,\n",
       " 1,\n",
       " 1,\n",
       " 1,\n",
       " 1,\n",
       " 1,\n",
       " 1,\n",
       " 1,\n",
       " 1,\n",
       " 1,\n",
       " 1,\n",
       " 1,\n",
       " 1,\n",
       " 1,\n",
       " 1,\n",
       " 1,\n",
       " 1,\n",
       " 1,\n",
       " 1,\n",
       " 1,\n",
       " 1,\n",
       " 1,\n",
       " 1,\n",
       " 1,\n",
       " 1,\n",
       " 1,\n",
       " 1,\n",
       " 1,\n",
       " 1,\n",
       " 1,\n",
       " 1,\n",
       " 1,\n",
       " 1,\n",
       " 1,\n",
       " 1,\n",
       " 1,\n",
       " 1,\n",
       " 1,\n",
       " 1,\n",
       " 1,\n",
       " 1,\n",
       " 1,\n",
       " 1,\n",
       " 1,\n",
       " 1,\n",
       " 1,\n",
       " 1,\n",
       " 1,\n",
       " 1,\n",
       " 1,\n",
       " 1,\n",
       " 1,\n",
       " 1,\n",
       " 1,\n",
       " 1,\n",
       " 1,\n",
       " 1,\n",
       " 1,\n",
       " 1,\n",
       " 1,\n",
       " 1,\n",
       " 1,\n",
       " 1,\n",
       " 1,\n",
       " 1,\n",
       " 1,\n",
       " 1,\n",
       " 1,\n",
       " 1,\n",
       " 1,\n",
       " 1,\n",
       " 1,\n",
       " 1,\n",
       " 1,\n",
       " 1,\n",
       " 1,\n",
       " 1,\n",
       " 1,\n",
       " 1,\n",
       " 1,\n",
       " 1,\n",
       " 1,\n",
       " 1,\n",
       " 1,\n",
       " 1,\n",
       " 1,\n",
       " 1,\n",
       " 1,\n",
       " 1,\n",
       " 1,\n",
       " 1,\n",
       " 1,\n",
       " 1,\n",
       " 1,\n",
       " 1,\n",
       " 1,\n",
       " 1,\n",
       " 1,\n",
       " 1,\n",
       " 1,\n",
       " 1,\n",
       " 1,\n",
       " 1,\n",
       " 1,\n",
       " 1,\n",
       " 1,\n",
       " 1,\n",
       " 1,\n",
       " 1,\n",
       " 1,\n",
       " 1,\n",
       " 1,\n",
       " 1,\n",
       " 1,\n",
       " 1,\n",
       " 1,\n",
       " 1,\n",
       " 1,\n",
       " 1,\n",
       " 1,\n",
       " 1,\n",
       " 1,\n",
       " 1,\n",
       " 1,\n",
       " 1,\n",
       " 1,\n",
       " 1,\n",
       " 1,\n",
       " 1,\n",
       " 1,\n",
       " 1,\n",
       " 1,\n",
       " 1,\n",
       " 1,\n",
       " 1,\n",
       " 1,\n",
       " 1,\n",
       " 1,\n",
       " 1,\n",
       " 1,\n",
       " 1,\n",
       " 1,\n",
       " 1,\n",
       " 1,\n",
       " 1,\n",
       " 1,\n",
       " 1,\n",
       " 1,\n",
       " 1,\n",
       " 1,\n",
       " 1]"
      ]
     },
     "execution_count": 57,
     "metadata": {},
     "output_type": "execute_result"
    }
   ],
   "source": [
    "[d for d in data if d == 1]"
   ]
  },
  {
   "cell_type": "code",
   "execution_count": 47,
   "metadata": {},
   "outputs": [
    {
     "data": {
      "text/plain": [
       "<matplotlib.axes._subplots.AxesSubplot at 0x1803a512148>"
      ]
     },
     "execution_count": 47,
     "metadata": {},
     "output_type": "execute_result"
    },
    {
     "data": {
      "image/png": "[encoded data removed]",
      "text/plain": [
       "<Figure size 864x576 with 1 Axes>"
      ]
     },
     "metadata": {
      "needs_background": "light"
     },
     "output_type": "display_data"
    }
   ],
   "source": [
    "fig4 = fit.plot_ccdf(linewidth=3)\n",
    "fit.power_law.plot_ccdf(ax=fig4, color='r', linestyle='--')\n",
    "fit.lognormal_positive.plot_ccdf(ax=fig4, color='g', linestyle='--')"
   ]
  },
  {
   "cell_type": "code",
   "execution_count": 32,
   "metadata": {},
   "outputs": [
    {
     "data": {
      "text/plain": [
       "<matplotlib.axes._subplots.AxesSubplot at 0x180392f6bc8>"
      ]
     },
     "execution_count": 32,
     "metadata": {},
     "output_type": "execute_result"
    },
    {
     "data": {
      "image/png": "[encoded data removed]",
      "text/plain": [
       "<Figure size 864x576 with 1 Axes>"
      ]
     },
     "metadata": {
      "needs_background": "light"
     },
     "output_type": "display_data"
    }
   ],
   "source": [
    "# powerlaw.plot_pdf(data, color='r', linear_bins=True)\n",
    "\n",
    "fig2 = fit.plot_pdf(color='b', linewidth=2)\n",
    "fit.power_law.plot_pdf(color='b', linestyle='--', ax=fig2)\n",
    "fit.plot_ccdf(color='r', linewidth=2, ax=fig2)\n",
    "fit.power_law.plot_ccdf(color='r', linestyle='--', ax=fig2)"
   ]
  },
  {
   "cell_type": "code",
   "execution_count": null,
   "metadata": {},
   "outputs": [],
   "source": []
  },
  {
   "cell_type": "code",
   "execution_count": null,
   "metadata": {},
   "outputs": [],
   "source": []
  }
 ],
 "metadata": {
  "kernelspec": {
   "display_name": "Python 2",
   "language": "python",
   "name": "python2"
  },
  "language_info": {
   "codemirror_mode": {
    "name": "ipython",
    "version": 2
   },
   "file_extension": ".py",
   "mimetype": "text/x-python",
   "name": "python",
   "nbconvert_exporter": "python",
   "pygments_lexer": "ipython2",
   "version": "2.7.15"
  },
  "toc": {
   "base_numbering": 1,
   "nav_menu": {},
   "number_sections": true,
   "sideBar": true,
   "skip_h1_title": false,
   "title_cell": "Table of Contents",
   "title_sidebar": "Contents",
   "toc_cell": false,
   "toc_position": {},
   "toc_section_display": true,
   "toc_window_display": false
  },
  "varInspector": {
   "cols": {
    "lenName": 16,
    "lenType": 16,
    "lenVar": 40
   },
   "kernels_config": {
    "python": {
     "delete_cmd_postfix": "",
     "delete_cmd_prefix": "del ",
     "library": "var_list.py",
     "varRefreshCmd": "print(var_dic_list())"
    },
    "r": {
     "delete_cmd_postfix": ") ",
     "delete_cmd_prefix": "rm(",
     "library": "var_list.r",
     "varRefreshCmd": "cat(var_dic_list()) "
    }
   },
   "types_to_exclude": [
    "module",
    "function",
    "builtin_function_or_method",
    "instance",
    "_Feature"
   ],
   "window_display": false
  }
 },
 "nbformat": 4,
 "nbformat_minor": 2
}
